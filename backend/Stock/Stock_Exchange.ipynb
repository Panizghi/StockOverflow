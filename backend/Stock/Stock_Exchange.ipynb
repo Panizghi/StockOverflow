{
 "cells": [
  {
   "cell_type": "code",
   "execution_count": 77,
   "metadata": {},
   "outputs": [],
   "source": [
    "import numpy as np\n",
    "from numpy import array\n",
    "import numpy.polynomial.polynomial as poly\n",
    "import pandas as pd\n",
    "import datetime as dt\n",
    "import seaborn\n",
    "import matplotlib.pylab as plt\n",
    "import os\n",
    "import random\n",
    "import shutil\n",
    "import glob\n",
    "import tensorflow as tf\n",
    "from tensorflow import keras\n",
    "from tensorflow.keras.models import Sequential\n",
    "from tensorflow.keras.layers import Activation, Dense, Flatten, BatchNormalization, Conv2D, MaxPool2D, LSTM\n",
    "from tensorflow.keras.optimizers import Adam\n",
    "from tensorflow.keras.metrics import categorical_crossentropy\n",
    "from tensorflow.keras.preprocessing.image import ImageDataGenerator\n",
    "from sklearn.metrics import confusion_matrix\n",
    "import itertools\n",
    "from sklearn.tree import DecisionTreeRegressor\n",
    "from sklearn.linear_model import LinearRegression\n",
    "from sklearn.ensemble import RandomForestRegressor\n",
    "from sklearn.model_selection import train_test_split\n",
    "from sklearn.metrics import mean_squared_error\n",
    "from sklearn.metrics import r2_score"
   ]
  },
  {
   "cell_type": "code",
   "execution_count": 78,
   "metadata": {},
   "outputs": [],
   "source": [
    "df = pd.read_csv('indexData.csv')"
   ]
  },
  {
   "cell_type": "code",
   "execution_count": 79,
   "metadata": {},
   "outputs": [
    {
     "data": {
      "text/html": [
       "<div>\n",
       "<style scoped>\n",
       "    .dataframe tbody tr th:only-of-type {\n",
       "        vertical-align: middle;\n",
       "    }\n",
       "\n",
       "    .dataframe tbody tr th {\n",
       "        vertical-align: top;\n",
       "    }\n",
       "\n",
       "    .dataframe thead th {\n",
       "        text-align: right;\n",
       "    }\n",
       "</style>\n",
       "<table border=\"1\" class=\"dataframe\">\n",
       "  <thead>\n",
       "    <tr style=\"text-align: right;\">\n",
       "      <th></th>\n",
       "      <th>Index</th>\n",
       "      <th>Date</th>\n",
       "      <th>Open</th>\n",
       "      <th>High</th>\n",
       "      <th>Low</th>\n",
       "      <th>Close</th>\n",
       "      <th>Adj Close</th>\n",
       "      <th>Volume</th>\n",
       "    </tr>\n",
       "  </thead>\n",
       "  <tbody>\n",
       "    <tr>\n",
       "      <th>0</th>\n",
       "      <td>NYA</td>\n",
       "      <td>1965-12-31</td>\n",
       "      <td>528.690002</td>\n",
       "      <td>528.690002</td>\n",
       "      <td>528.690002</td>\n",
       "      <td>528.690002</td>\n",
       "      <td>528.690002</td>\n",
       "      <td>0.0</td>\n",
       "    </tr>\n",
       "    <tr>\n",
       "      <th>1</th>\n",
       "      <td>NYA</td>\n",
       "      <td>1966-01-03</td>\n",
       "      <td>527.210022</td>\n",
       "      <td>527.210022</td>\n",
       "      <td>527.210022</td>\n",
       "      <td>527.210022</td>\n",
       "      <td>527.210022</td>\n",
       "      <td>0.0</td>\n",
       "    </tr>\n",
       "    <tr>\n",
       "      <th>2</th>\n",
       "      <td>NYA</td>\n",
       "      <td>1966-01-04</td>\n",
       "      <td>527.840027</td>\n",
       "      <td>527.840027</td>\n",
       "      <td>527.840027</td>\n",
       "      <td>527.840027</td>\n",
       "      <td>527.840027</td>\n",
       "      <td>0.0</td>\n",
       "    </tr>\n",
       "    <tr>\n",
       "      <th>3</th>\n",
       "      <td>NYA</td>\n",
       "      <td>1966-01-05</td>\n",
       "      <td>531.119995</td>\n",
       "      <td>531.119995</td>\n",
       "      <td>531.119995</td>\n",
       "      <td>531.119995</td>\n",
       "      <td>531.119995</td>\n",
       "      <td>0.0</td>\n",
       "    </tr>\n",
       "    <tr>\n",
       "      <th>4</th>\n",
       "      <td>NYA</td>\n",
       "      <td>1966-01-06</td>\n",
       "      <td>532.070007</td>\n",
       "      <td>532.070007</td>\n",
       "      <td>532.070007</td>\n",
       "      <td>532.070007</td>\n",
       "      <td>532.070007</td>\n",
       "      <td>0.0</td>\n",
       "    </tr>\n",
       "  </tbody>\n",
       "</table>\n",
       "</div>"
      ],
      "text/plain": [
       "  Index        Date        Open        High         Low       Close  \\\n",
       "0   NYA  1965-12-31  528.690002  528.690002  528.690002  528.690002   \n",
       "1   NYA  1966-01-03  527.210022  527.210022  527.210022  527.210022   \n",
       "2   NYA  1966-01-04  527.840027  527.840027  527.840027  527.840027   \n",
       "3   NYA  1966-01-05  531.119995  531.119995  531.119995  531.119995   \n",
       "4   NYA  1966-01-06  532.070007  532.070007  532.070007  532.070007   \n",
       "\n",
       "    Adj Close  Volume  \n",
       "0  528.690002     0.0  \n",
       "1  527.210022     0.0  \n",
       "2  527.840027     0.0  \n",
       "3  531.119995     0.0  \n",
       "4  532.070007     0.0  "
      ]
     },
     "execution_count": 79,
     "metadata": {},
     "output_type": "execute_result"
    }
   ],
   "source": [
    "df.head()"
   ]
  },
  {
   "cell_type": "code",
   "execution_count": 80,
   "metadata": {},
   "outputs": [
    {
     "data": {
      "text/html": [
       "<div>\n",
       "<style scoped>\n",
       "    .dataframe tbody tr th:only-of-type {\n",
       "        vertical-align: middle;\n",
       "    }\n",
       "\n",
       "    .dataframe tbody tr th {\n",
       "        vertical-align: top;\n",
       "    }\n",
       "\n",
       "    .dataframe thead th {\n",
       "        text-align: right;\n",
       "    }\n",
       "</style>\n",
       "<table border=\"1\" class=\"dataframe\">\n",
       "  <thead>\n",
       "    <tr style=\"text-align: right;\">\n",
       "      <th></th>\n",
       "      <th>Index</th>\n",
       "      <th>Date</th>\n",
       "      <th>Open</th>\n",
       "      <th>High</th>\n",
       "      <th>Low</th>\n",
       "      <th>Close</th>\n",
       "      <th>Adj Close</th>\n",
       "      <th>Volume</th>\n",
       "    </tr>\n",
       "  </thead>\n",
       "  <tbody>\n",
       "    <tr>\n",
       "      <th>0</th>\n",
       "      <td>NYA</td>\n",
       "      <td>1965-12-31</td>\n",
       "      <td>528.690002</td>\n",
       "      <td>528.690002</td>\n",
       "      <td>528.690002</td>\n",
       "      <td>528.690002</td>\n",
       "      <td>528.690002</td>\n",
       "      <td>0.000000e+00</td>\n",
       "    </tr>\n",
       "    <tr>\n",
       "      <th>1</th>\n",
       "      <td>NYA</td>\n",
       "      <td>1966-01-03</td>\n",
       "      <td>527.210022</td>\n",
       "      <td>527.210022</td>\n",
       "      <td>527.210022</td>\n",
       "      <td>527.210022</td>\n",
       "      <td>527.210022</td>\n",
       "      <td>0.000000e+00</td>\n",
       "    </tr>\n",
       "    <tr>\n",
       "      <th>2</th>\n",
       "      <td>NYA</td>\n",
       "      <td>1966-01-04</td>\n",
       "      <td>527.840027</td>\n",
       "      <td>527.840027</td>\n",
       "      <td>527.840027</td>\n",
       "      <td>527.840027</td>\n",
       "      <td>527.840027</td>\n",
       "      <td>0.000000e+00</td>\n",
       "    </tr>\n",
       "    <tr>\n",
       "      <th>3</th>\n",
       "      <td>NYA</td>\n",
       "      <td>1966-01-05</td>\n",
       "      <td>531.119995</td>\n",
       "      <td>531.119995</td>\n",
       "      <td>531.119995</td>\n",
       "      <td>531.119995</td>\n",
       "      <td>531.119995</td>\n",
       "      <td>0.000000e+00</td>\n",
       "    </tr>\n",
       "    <tr>\n",
       "      <th>4</th>\n",
       "      <td>NYA</td>\n",
       "      <td>1966-01-06</td>\n",
       "      <td>532.070007</td>\n",
       "      <td>532.070007</td>\n",
       "      <td>532.070007</td>\n",
       "      <td>532.070007</td>\n",
       "      <td>532.070007</td>\n",
       "      <td>0.000000e+00</td>\n",
       "    </tr>\n",
       "    <tr>\n",
       "      <th>...</th>\n",
       "      <td>...</td>\n",
       "      <td>...</td>\n",
       "      <td>...</td>\n",
       "      <td>...</td>\n",
       "      <td>...</td>\n",
       "      <td>...</td>\n",
       "      <td>...</td>\n",
       "      <td>...</td>\n",
       "    </tr>\n",
       "    <tr>\n",
       "      <th>13943</th>\n",
       "      <td>NYA</td>\n",
       "      <td>2021-05-24</td>\n",
       "      <td>16375.000000</td>\n",
       "      <td>16508.519530</td>\n",
       "      <td>16375.000000</td>\n",
       "      <td>16464.689450</td>\n",
       "      <td>16464.689450</td>\n",
       "      <td>2.947400e+09</td>\n",
       "    </tr>\n",
       "    <tr>\n",
       "      <th>13944</th>\n",
       "      <td>NYA</td>\n",
       "      <td>2021-05-25</td>\n",
       "      <td>16464.689450</td>\n",
       "      <td>16525.810550</td>\n",
       "      <td>16375.150390</td>\n",
       "      <td>16390.189450</td>\n",
       "      <td>16390.189450</td>\n",
       "      <td>3.420870e+09</td>\n",
       "    </tr>\n",
       "    <tr>\n",
       "      <th>13945</th>\n",
       "      <td>NYA</td>\n",
       "      <td>2021-05-26</td>\n",
       "      <td>16390.189450</td>\n",
       "      <td>16466.339840</td>\n",
       "      <td>16388.320310</td>\n",
       "      <td>16451.960940</td>\n",
       "      <td>16451.960940</td>\n",
       "      <td>3.674490e+09</td>\n",
       "    </tr>\n",
       "    <tr>\n",
       "      <th>13946</th>\n",
       "      <td>NYA</td>\n",
       "      <td>2021-05-27</td>\n",
       "      <td>16451.960940</td>\n",
       "      <td>16546.359380</td>\n",
       "      <td>16451.960940</td>\n",
       "      <td>16531.949220</td>\n",
       "      <td>16531.949220</td>\n",
       "      <td>5.201110e+09</td>\n",
       "    </tr>\n",
       "    <tr>\n",
       "      <th>13947</th>\n",
       "      <td>NYA</td>\n",
       "      <td>2021-05-28</td>\n",
       "      <td>16531.949220</td>\n",
       "      <td>16588.689450</td>\n",
       "      <td>16531.949220</td>\n",
       "      <td>16555.660160</td>\n",
       "      <td>16555.660160</td>\n",
       "      <td>4.199270e+09</td>\n",
       "    </tr>\n",
       "  </tbody>\n",
       "</table>\n",
       "<p>13948 rows × 8 columns</p>\n",
       "</div>"
      ],
      "text/plain": [
       "      Index       Date          Open          High           Low  \\\n",
       "0       NYA 1965-12-31    528.690002    528.690002    528.690002   \n",
       "1       NYA 1966-01-03    527.210022    527.210022    527.210022   \n",
       "2       NYA 1966-01-04    527.840027    527.840027    527.840027   \n",
       "3       NYA 1966-01-05    531.119995    531.119995    531.119995   \n",
       "4       NYA 1966-01-06    532.070007    532.070007    532.070007   \n",
       "...     ...        ...           ...           ...           ...   \n",
       "13943   NYA 2021-05-24  16375.000000  16508.519530  16375.000000   \n",
       "13944   NYA 2021-05-25  16464.689450  16525.810550  16375.150390   \n",
       "13945   NYA 2021-05-26  16390.189450  16466.339840  16388.320310   \n",
       "13946   NYA 2021-05-27  16451.960940  16546.359380  16451.960940   \n",
       "13947   NYA 2021-05-28  16531.949220  16588.689450  16531.949220   \n",
       "\n",
       "              Close     Adj Close        Volume  \n",
       "0        528.690002    528.690002  0.000000e+00  \n",
       "1        527.210022    527.210022  0.000000e+00  \n",
       "2        527.840027    527.840027  0.000000e+00  \n",
       "3        531.119995    531.119995  0.000000e+00  \n",
       "4        532.070007    532.070007  0.000000e+00  \n",
       "...             ...           ...           ...  \n",
       "13943  16464.689450  16464.689450  2.947400e+09  \n",
       "13944  16390.189450  16390.189450  3.420870e+09  \n",
       "13945  16451.960940  16451.960940  3.674490e+09  \n",
       "13946  16531.949220  16531.949220  5.201110e+09  \n",
       "13947  16555.660160  16555.660160  4.199270e+09  \n",
       "\n",
       "[13948 rows x 8 columns]"
      ]
     },
     "execution_count": 80,
     "metadata": {},
     "output_type": "execute_result"
    }
   ],
   "source": [
    "df[\"Date\"] = pd.to_datetime(df[\"Date\"])\n",
    "df_NYA = df[df[\"Index\"].isin(['NYA'])].sort_values('Date')\n",
    "df_NYA"
   ]
  },
  {
   "cell_type": "code",
   "execution_count": 81,
   "metadata": {},
   "outputs": [
    {
     "data": {
      "text/plain": [
       "<matplotlib.legend.Legend at 0x30bfad940>"
      ]
     },
     "execution_count": 81,
     "metadata": {},
     "output_type": "execute_result"
    },
    {
     "data": {
      "image/png": "[encoded data removed]",
      "text/plain": [
       "<Figure size 640x480 with 1 Axes>"
      ]
     },
     "metadata": {},
     "output_type": "display_data"
    }
   ],
   "source": [
    "plt.plot(df_NYA[\"Date\"],df_NYA[\"Close\"],label='Row Data')\n",
    "plt.legend()\n"
   ]
  },
  {
   "cell_type": "code",
   "execution_count": 82,
   "metadata": {},
   "outputs": [
    {
     "data": {
      "text/html": [
       "<div>\n",
       "<style scoped>\n",
       "    .dataframe tbody tr th:only-of-type {\n",
       "        vertical-align: middle;\n",
       "    }\n",
       "\n",
       "    .dataframe tbody tr th {\n",
       "        vertical-align: top;\n",
       "    }\n",
       "\n",
       "    .dataframe thead th {\n",
       "        text-align: right;\n",
       "    }\n",
       "</style>\n",
       "<table border=\"1\" class=\"dataframe\">\n",
       "  <thead>\n",
       "    <tr style=\"text-align: right;\">\n",
       "      <th></th>\n",
       "      <th>Date</th>\n",
       "      <th>Close</th>\n",
       "    </tr>\n",
       "  </thead>\n",
       "  <tbody>\n",
       "    <tr>\n",
       "      <th>0</th>\n",
       "      <td>1965-12-31</td>\n",
       "      <td>528.690002</td>\n",
       "    </tr>\n",
       "    <tr>\n",
       "      <th>1</th>\n",
       "      <td>1966-01-03</td>\n",
       "      <td>527.210022</td>\n",
       "    </tr>\n",
       "    <tr>\n",
       "      <th>2</th>\n",
       "      <td>1966-01-04</td>\n",
       "      <td>527.840027</td>\n",
       "    </tr>\n",
       "    <tr>\n",
       "      <th>3</th>\n",
       "      <td>1966-01-05</td>\n",
       "      <td>531.119995</td>\n",
       "    </tr>\n",
       "    <tr>\n",
       "      <th>4</th>\n",
       "      <td>1966-01-06</td>\n",
       "      <td>532.070007</td>\n",
       "    </tr>\n",
       "    <tr>\n",
       "      <th>...</th>\n",
       "      <td>...</td>\n",
       "      <td>...</td>\n",
       "    </tr>\n",
       "    <tr>\n",
       "      <th>13943</th>\n",
       "      <td>2021-05-24</td>\n",
       "      <td>16464.689450</td>\n",
       "    </tr>\n",
       "    <tr>\n",
       "      <th>13944</th>\n",
       "      <td>2021-05-25</td>\n",
       "      <td>16390.189450</td>\n",
       "    </tr>\n",
       "    <tr>\n",
       "      <th>13945</th>\n",
       "      <td>2021-05-26</td>\n",
       "      <td>16451.960940</td>\n",
       "    </tr>\n",
       "    <tr>\n",
       "      <th>13946</th>\n",
       "      <td>2021-05-27</td>\n",
       "      <td>16531.949220</td>\n",
       "    </tr>\n",
       "    <tr>\n",
       "      <th>13947</th>\n",
       "      <td>2021-05-28</td>\n",
       "      <td>16555.660160</td>\n",
       "    </tr>\n",
       "  </tbody>\n",
       "</table>\n",
       "<p>13948 rows × 2 columns</p>\n",
       "</div>"
      ],
      "text/plain": [
       "            Date         Close\n",
       "0     1965-12-31    528.690002\n",
       "1     1966-01-03    527.210022\n",
       "2     1966-01-04    527.840027\n",
       "3     1966-01-05    531.119995\n",
       "4     1966-01-06    532.070007\n",
       "...          ...           ...\n",
       "13943 2021-05-24  16464.689450\n",
       "13944 2021-05-25  16390.189450\n",
       "13945 2021-05-26  16451.960940\n",
       "13946 2021-05-27  16531.949220\n",
       "13947 2021-05-28  16555.660160\n",
       "\n",
       "[13948 rows x 2 columns]"
      ]
     },
     "execution_count": 82,
     "metadata": {},
     "output_type": "execute_result"
    }
   ],
   "source": [
    "df_NYA_data_close = df_NYA[[\"Date\",\"Close\"]]\n",
    "df_NYA_data_close\n"
   ]
  },
  {
   "cell_type": "code",
   "execution_count": 83,
   "metadata": {},
   "outputs": [
    {
     "data": {
      "text/plain": [
       "Date     0\n",
       "Close    1\n",
       "dtype: int64"
      ]
     },
     "execution_count": 83,
     "metadata": {},
     "output_type": "execute_result"
    }
   ],
   "source": [
    "df_NYA_data_close.isnull().sum()"
   ]
  },
  {
   "cell_type": "code",
   "execution_count": 84,
   "metadata": {},
   "outputs": [
    {
     "data": {
      "text/plain": [
       "Index([    0,     1,     2,     3,     4,     5,     6,     7,     8,     9,\n",
       "       ...\n",
       "       13938, 13939, 13940, 13941, 13942, 13943, 13944, 13945, 13946, 13947],\n",
       "      dtype='int64', length=13948)"
      ]
     },
     "execution_count": 84,
     "metadata": {},
     "output_type": "execute_result"
    }
   ],
   "source": [
    "df_NYA_data_close.index\n"
   ]
  },
  {
   "cell_type": "code",
   "execution_count": 85,
   "metadata": {},
   "outputs": [
    {
     "data": {
      "text/plain": [
       "array([289])"
      ]
     },
     "execution_count": 85,
     "metadata": {},
     "output_type": "execute_result"
    }
   ],
   "source": [
    "np.where(df_NYA_data_close['Close'].isnull())[0]"
   ]
  },
  {
   "cell_type": "code",
   "execution_count": 86,
   "metadata": {},
   "outputs": [
    {
     "data": {
      "text/html": [
       "<div>\n",
       "<style scoped>\n",
       "    .dataframe tbody tr th:only-of-type {\n",
       "        vertical-align: middle;\n",
       "    }\n",
       "\n",
       "    .dataframe tbody tr th {\n",
       "        vertical-align: top;\n",
       "    }\n",
       "\n",
       "    .dataframe thead th {\n",
       "        text-align: right;\n",
       "    }\n",
       "</style>\n",
       "<table border=\"1\" class=\"dataframe\">\n",
       "  <thead>\n",
       "    <tr style=\"text-align: right;\">\n",
       "      <th></th>\n",
       "      <th>Date</th>\n",
       "      <th>Close</th>\n",
       "    </tr>\n",
       "  </thead>\n",
       "  <tbody>\n",
       "    <tr>\n",
       "      <th>289</th>\n",
       "      <td>1967-02-23</td>\n",
       "      <td>NaN</td>\n",
       "    </tr>\n",
       "  </tbody>\n",
       "</table>\n",
       "</div>"
      ],
      "text/plain": [
       "          Date  Close\n",
       "289 1967-02-23    NaN"
      ]
     },
     "execution_count": 86,
     "metadata": {},
     "output_type": "execute_result"
    }
   ],
   "source": [
    "df_NYA_data_close.iloc[[289]]"
   ]
  },
  {
   "cell_type": "code",
   "execution_count": 87,
   "metadata": {},
   "outputs": [
    {
     "data": {
      "text/plain": [
       "Date     0\n",
       "Close    0\n",
       "dtype: int64"
      ]
     },
     "execution_count": 87,
     "metadata": {},
     "output_type": "execute_result"
    }
   ],
   "source": [
    "df_NYA_data_close_withoutnan = df_NYA_data_close.dropna()\n",
    "df_NYA_data_close_withoutnan.isnull().sum()"
   ]
  },
  {
   "cell_type": "code",
   "execution_count": 88,
   "metadata": {},
   "outputs": [
    {
     "data": {
      "text/plain": [
       "array([], dtype=int64)"
      ]
     },
     "execution_count": 88,
     "metadata": {},
     "output_type": "execute_result"
    }
   ],
   "source": [
    "np.where(df_NYA_data_close_withoutnan['Close'].isnull())[0]"
   ]
  },
  {
   "cell_type": "code",
   "execution_count": 89,
   "metadata": {},
   "outputs": [
    {
     "data": {
      "text/html": [
       "<div>\n",
       "<style scoped>\n",
       "    .dataframe tbody tr th:only-of-type {\n",
       "        vertical-align: middle;\n",
       "    }\n",
       "\n",
       "    .dataframe tbody tr th {\n",
       "        vertical-align: top;\n",
       "    }\n",
       "\n",
       "    .dataframe thead th {\n",
       "        text-align: right;\n",
       "    }\n",
       "</style>\n",
       "<table border=\"1\" class=\"dataframe\">\n",
       "  <thead>\n",
       "    <tr style=\"text-align: right;\">\n",
       "      <th></th>\n",
       "      <th>Date</th>\n",
       "      <th>Close</th>\n",
       "    </tr>\n",
       "  </thead>\n",
       "  <tbody>\n",
       "    <tr>\n",
       "      <th>0</th>\n",
       "      <td>1965-12-31</td>\n",
       "      <td>528.690002</td>\n",
       "    </tr>\n",
       "    <tr>\n",
       "      <th>1</th>\n",
       "      <td>1966-01-03</td>\n",
       "      <td>527.210022</td>\n",
       "    </tr>\n",
       "    <tr>\n",
       "      <th>2</th>\n",
       "      <td>1966-01-04</td>\n",
       "      <td>527.840027</td>\n",
       "    </tr>\n",
       "    <tr>\n",
       "      <th>3</th>\n",
       "      <td>1966-01-05</td>\n",
       "      <td>531.119995</td>\n",
       "    </tr>\n",
       "    <tr>\n",
       "      <th>4</th>\n",
       "      <td>1966-01-06</td>\n",
       "      <td>532.070007</td>\n",
       "    </tr>\n",
       "    <tr>\n",
       "      <th>...</th>\n",
       "      <td>...</td>\n",
       "      <td>...</td>\n",
       "    </tr>\n",
       "    <tr>\n",
       "      <th>11072</th>\n",
       "      <td>2009-12-24</td>\n",
       "      <td>7255.000000</td>\n",
       "    </tr>\n",
       "    <tr>\n",
       "      <th>11073</th>\n",
       "      <td>2009-12-28</td>\n",
       "      <td>7261.240234</td>\n",
       "    </tr>\n",
       "    <tr>\n",
       "      <th>11074</th>\n",
       "      <td>2009-12-29</td>\n",
       "      <td>7252.189941</td>\n",
       "    </tr>\n",
       "    <tr>\n",
       "      <th>11075</th>\n",
       "      <td>2009-12-30</td>\n",
       "      <td>7241.240234</td>\n",
       "    </tr>\n",
       "    <tr>\n",
       "      <th>11076</th>\n",
       "      <td>2009-12-31</td>\n",
       "      <td>7184.959961</td>\n",
       "    </tr>\n",
       "  </tbody>\n",
       "</table>\n",
       "<p>11076 rows × 2 columns</p>\n",
       "</div>"
      ],
      "text/plain": [
       "            Date        Close\n",
       "0     1965-12-31   528.690002\n",
       "1     1966-01-03   527.210022\n",
       "2     1966-01-04   527.840027\n",
       "3     1966-01-05   531.119995\n",
       "4     1966-01-06   532.070007\n",
       "...          ...          ...\n",
       "11072 2009-12-24  7255.000000\n",
       "11073 2009-12-28  7261.240234\n",
       "11074 2009-12-29  7252.189941\n",
       "11075 2009-12-30  7241.240234\n",
       "11076 2009-12-31  7184.959961\n",
       "\n",
       "[11076 rows x 2 columns]"
      ]
     },
     "execution_count": 89,
     "metadata": {},
     "output_type": "execute_result"
    }
   ],
   "source": [
    "data_train = df_NYA_data_close_withoutnan[df_NYA_data_close_withoutnan.Date < \"2010-01-01\"]\n",
    "data_test = df_NYA_data_close_withoutnan[df_NYA_data_close_withoutnan.Date >= \"2010-01-01\"]\n",
    "data_train"
   ]
  },
  {
   "cell_type": "code",
   "execution_count": 90,
   "metadata": {},
   "outputs": [
    {
     "name": "stderr",
     "output_type": "stream",
     "text": [
      "/var/folders/h8/51x7qy5s3vvb8sqldgx055400000gn/T/ipykernel_44609/3535225291.py:1: SettingWithCopyWarning: \n",
      "A value is trying to be set on a copy of a slice from a DataFrame.\n",
      "Try using .loc[row_indexer,col_indexer] = value instead\n",
      "\n",
      "See the caveats in the documentation: https://pandas.pydata.org/pandas-docs/stable/user_guide/indexing.html#returning-a-view-versus-a-copy\n",
      "  data_train.Date = data_train.Date.map(dt.datetime.toordinal)\n"
     ]
    }
   ],
   "source": [
    "data_train.Date = data_train.Date.map(dt.datetime.toordinal)\n",
    "X_train = np.array(data_train.Date)[:, np.newaxis]\n"
   ]
  },
  {
   "cell_type": "code",
   "execution_count": 92,
   "metadata": {},
   "outputs": [
    {
     "data": {
      "text/plain": [
       "array([[717701],\n",
       "       [717704],\n",
       "       [717705],\n",
       "       ...,\n",
       "       [733770],\n",
       "       [733771],\n",
       "       [733772]])"
      ]
     },
     "execution_count": 92,
     "metadata": {},
     "output_type": "execute_result"
    }
   ],
   "source": [
    "X_train"
   ]
  },
  {
   "cell_type": "code",
   "execution_count": 93,
   "metadata": {},
   "outputs": [],
   "source": [
    "y_train = data_train.Close"
   ]
  },
  {
   "cell_type": "code",
   "execution_count": 94,
   "metadata": {},
   "outputs": [
    {
     "data": {
      "text/plain": [
       "0"
      ]
     },
     "execution_count": 94,
     "metadata": {},
     "output_type": "execute_result"
    }
   ],
   "source": [
    "y_train.isnull().sum()"
   ]
  },
  {
   "cell_type": "code",
   "execution_count": 96,
   "metadata": {},
   "outputs": [],
   "source": [
    "tree = DecisionTreeRegressor(criterion='squared_error', max_depth=50).fit(X_train, y_train)\n"
   ]
  },
  {
   "cell_type": "code",
   "execution_count": 97,
   "metadata": {},
   "outputs": [],
   "source": [
    "linear_reg = LinearRegression().fit(X_train, y_train)"
   ]
  },
  {
   "cell_type": "code",
   "execution_count": 98,
   "metadata": {},
   "outputs": [],
   "source": [
    "model_rf = RandomForestRegressor(n_estimators=100).fit(X_train, y_train)"
   ]
  },
  {
   "cell_type": "code",
   "execution_count": 100,
   "metadata": {},
   "outputs": [],
   "source": [
    "X_all = np.array(df_NYA_data_close_withoutnan.Date.map(dt.datetime.toordinal))[:, np.newaxis]\n"
   ]
  },
  {
   "cell_type": "code",
   "execution_count": 101,
   "metadata": {},
   "outputs": [
    {
     "data": {
      "text/plain": [
       "array([[717701],\n",
       "       [717704],\n",
       "       [717705],\n",
       "       ...,\n",
       "       [737936],\n",
       "       [737937],\n",
       "       [737938]])"
      ]
     },
     "execution_count": 101,
     "metadata": {},
     "output_type": "execute_result"
    }
   ],
   "source": [
    "X_all"
   ]
  },
  {
   "cell_type": "code",
   "execution_count": 102,
   "metadata": {},
   "outputs": [
    {
     "data": {
      "text/plain": [
       "array([3])"
      ]
     },
     "execution_count": 102,
     "metadata": {},
     "output_type": "execute_result"
    }
   ],
   "source": [
    "np.where(df_NYA_data_close_withoutnan['Date'] == '1966-01-05')[0]"
   ]
  },
  {
   "cell_type": "code",
   "execution_count": 103,
   "metadata": {},
   "outputs": [
    {
     "data": {
      "text/plain": [
       "array([717706])"
      ]
     },
     "execution_count": 103,
     "metadata": {},
     "output_type": "execute_result"
    }
   ],
   "source": [
    "X_all[3]"
   ]
  },
  {
   "cell_type": "code",
   "execution_count": 104,
   "metadata": {},
   "outputs": [],
   "source": [
    "pred_tree = tree.predict(X_all)\n",
    "pred_model_rf = model_rf.predict(X_all)\n",
    "pred_lr = linear_reg.predict(X_all)\n",
    "X = np.array(data_train.Date)\n",
    "y = np.array(data_train.Close)\n",
    "model_coef_polyfit = poly.polyfit(X, y, 3)\n",
    "X_new = np.array(df_NYA_data_close_withoutnan.Date.map(dt.datetime.toordinal))\n",
    "ffit = poly.polyval(X_new, model_coef_polyfit)\n",
    "X_new = pd.DataFrame(X_new,columns=['Date'])\n",
    "X_new = X_new.Date.map(dt.datetime.fromordinal)"
   ]
  },
  {
   "cell_type": "code",
   "execution_count": 105,
   "metadata": {},
   "outputs": [
    {
     "data": {
      "text/plain": [
       "<matplotlib.legend.Legend at 0x3574299a0>"
      ]
     },
     "execution_count": 105,
     "metadata": {},
     "output_type": "execute_result"
    },
    {
     "data": {
      "image/png": "[encoded data removed]",
      "text/plain": [
       "<Figure size 640x480 with 1 Axes>"
      ]
     },
     "metadata": {},
     "output_type": "display_data"
    }
   ],
   "source": [
    "plt.plot(df_NYA_data_close_withoutnan.Date,df_NYA_data_close_withoutnan.Close,label='Row Data')\n",
    "plt.plot(df_NYA_data_close_withoutnan.Date,pred_tree,label='Decision Tree')\n",
    "plt.plot(df_NYA_data_close_withoutnan.Date,pred_lr,label='Linear Regression')\n",
    "plt.plot(df_NYA_data_close_withoutnan.Date,pred_model_rf,label='Random Forest')\n",
    "plt.plot(X_new,ffit,label='Fit using polyfit')\n",
    "plt.legend()"
   ]
  },
  {
   "cell_type": "code",
   "execution_count": 106,
   "metadata": {},
   "outputs": [
    {
     "data": {
      "text/plain": [
       "0.7973522670100477"
      ]
     },
     "execution_count": 106,
     "metadata": {},
     "output_type": "execute_result"
    }
   ],
   "source": [
    "tree.score(X_all,df_NYA_data_close_withoutnan.Close)"
   ]
  },
  {
   "cell_type": "code",
   "execution_count": 107,
   "metadata": {},
   "outputs": [
    {
     "data": {
      "text/plain": [
       "0.8281145573435139"
      ]
     },
     "execution_count": 107,
     "metadata": {},
     "output_type": "execute_result"
    }
   ],
   "source": [
    "linear_reg.score(X_all,df_NYA_data_close_withoutnan.Close)"
   ]
  },
  {
   "cell_type": "code",
   "execution_count": 108,
   "metadata": {},
   "outputs": [
    {
     "data": {
      "text/plain": [
       "0.7992230137217917"
      ]
     },
     "execution_count": 108,
     "metadata": {},
     "output_type": "execute_result"
    }
   ],
   "source": [
    "model_rf.score(X_all,df_NYA_data_close_withoutnan.Close)"
   ]
  },
  {
   "cell_type": "code",
   "execution_count": 109,
   "metadata": {},
   "outputs": [
    {
     "data": {
      "text/plain": [
       "5507"
      ]
     },
     "execution_count": 109,
     "metadata": {},
     "output_type": "execute_result"
    }
   ],
   "source": [
    "df_N100 = df[df[\"Index\"].isin(['N100'])].sort_values('Date')\n",
    "new_index = np.arange(0,len(df_N100.Close),1)\n",
    "len(df_N100.Close)"
   ]
  },
  {
   "cell_type": "code",
   "execution_count": 110,
   "metadata": {},
   "outputs": [
    {
     "data": {
      "text/html": [
       "<div>\n",
       "<style scoped>\n",
       "    .dataframe tbody tr th:only-of-type {\n",
       "        vertical-align: middle;\n",
       "    }\n",
       "\n",
       "    .dataframe tbody tr th {\n",
       "        vertical-align: top;\n",
       "    }\n",
       "\n",
       "    .dataframe thead th {\n",
       "        text-align: right;\n",
       "    }\n",
       "</style>\n",
       "<table border=\"1\" class=\"dataframe\">\n",
       "  <thead>\n",
       "    <tr style=\"text-align: right;\">\n",
       "      <th></th>\n",
       "      <th>Date</th>\n",
       "      <th>Close</th>\n",
       "    </tr>\n",
       "  </thead>\n",
       "  <tbody>\n",
       "    <tr>\n",
       "      <th>106950</th>\n",
       "      <td>1999-12-31</td>\n",
       "      <td>1000.000000</td>\n",
       "    </tr>\n",
       "    <tr>\n",
       "      <th>106951</th>\n",
       "      <td>2000-01-03</td>\n",
       "      <td>996.770020</td>\n",
       "    </tr>\n",
       "    <tr>\n",
       "      <th>106952</th>\n",
       "      <td>2000-01-04</td>\n",
       "      <td>955.969971</td>\n",
       "    </tr>\n",
       "    <tr>\n",
       "      <th>106953</th>\n",
       "      <td>2000-01-05</td>\n",
       "      <td>930.260010</td>\n",
       "    </tr>\n",
       "    <tr>\n",
       "      <th>106954</th>\n",
       "      <td>2000-01-06</td>\n",
       "      <td>922.460022</td>\n",
       "    </tr>\n",
       "    <tr>\n",
       "      <th>...</th>\n",
       "      <td>...</td>\n",
       "      <td>...</td>\n",
       "    </tr>\n",
       "    <tr>\n",
       "      <th>112452</th>\n",
       "      <td>2021-05-27</td>\n",
       "      <td>1247.069946</td>\n",
       "    </tr>\n",
       "    <tr>\n",
       "      <th>112453</th>\n",
       "      <td>2021-05-28</td>\n",
       "      <td>1256.599976</td>\n",
       "    </tr>\n",
       "    <tr>\n",
       "      <th>112454</th>\n",
       "      <td>2021-05-31</td>\n",
       "      <td>1248.930054</td>\n",
       "    </tr>\n",
       "    <tr>\n",
       "      <th>112455</th>\n",
       "      <td>2021-06-01</td>\n",
       "      <td>1258.579956</td>\n",
       "    </tr>\n",
       "    <tr>\n",
       "      <th>112456</th>\n",
       "      <td>2021-06-02</td>\n",
       "      <td>1263.619995</td>\n",
       "    </tr>\n",
       "  </tbody>\n",
       "</table>\n",
       "<p>5507 rows × 2 columns</p>\n",
       "</div>"
      ],
      "text/plain": [
       "             Date        Close\n",
       "106950 1999-12-31  1000.000000\n",
       "106951 2000-01-03   996.770020\n",
       "106952 2000-01-04   955.969971\n",
       "106953 2000-01-05   930.260010\n",
       "106954 2000-01-06   922.460022\n",
       "...           ...          ...\n",
       "112452 2021-05-27  1247.069946\n",
       "112453 2021-05-28  1256.599976\n",
       "112454 2021-05-31  1248.930054\n",
       "112455 2021-06-01  1258.579956\n",
       "112456 2021-06-02  1263.619995\n",
       "\n",
       "[5507 rows x 2 columns]"
      ]
     },
     "execution_count": 110,
     "metadata": {},
     "output_type": "execute_result"
    }
   ],
   "source": [
    "df_N100_data_close = df_N100[[\"Date\",\"Close\"]]\n",
    "df_N100_data_close"
   ]
  },
  {
   "cell_type": "code",
   "execution_count": 111,
   "metadata": {},
   "outputs": [
    {
     "data": {
      "text/plain": [
       "Index([106950, 106951, 106952, 106953, 106954, 106955, 106956, 106957, 106958,\n",
       "       106959,\n",
       "       ...\n",
       "       112447, 112448, 112449, 112450, 112451, 112452, 112453, 112454, 112455,\n",
       "       112456],\n",
       "      dtype='int64', length=5507)"
      ]
     },
     "execution_count": 111,
     "metadata": {},
     "output_type": "execute_result"
    }
   ],
   "source": [
    "df_N100_data_close.index"
   ]
  },
  {
   "cell_type": "code",
   "execution_count": 112,
   "metadata": {},
   "outputs": [
    {
     "data": {
      "text/plain": [
       "Date      0\n",
       "Close    33\n",
       "dtype: int64"
      ]
     },
     "execution_count": 112,
     "metadata": {},
     "output_type": "execute_result"
    }
   ],
   "source": [
    "df_N100_data_close.isnull().sum()"
   ]
  },
  {
   "cell_type": "code",
   "execution_count": 113,
   "metadata": {},
   "outputs": [],
   "source": [
    "df_N100_data_close_withoutnan = df_N100_data_close.dropna()"
   ]
  },
  {
   "cell_type": "code",
   "execution_count": 114,
   "metadata": {},
   "outputs": [
    {
     "data": {
      "text/plain": [
       "5474"
      ]
     },
     "execution_count": 114,
     "metadata": {},
     "output_type": "execute_result"
    }
   ],
   "source": [
    "len(df_N100_data_close_withoutnan.Close)"
   ]
  },
  {
   "cell_type": "code",
   "execution_count": 115,
   "metadata": {},
   "outputs": [
    {
     "data": {
      "text/plain": [
       "Date     0\n",
       "Close    0\n",
       "dtype: int64"
      ]
     },
     "execution_count": 115,
     "metadata": {},
     "output_type": "execute_result"
    }
   ],
   "source": [
    "df_N100_data_close_withoutnan.isnull().sum()"
   ]
  },
  {
   "cell_type": "code",
   "execution_count": 116,
   "metadata": {},
   "outputs": [],
   "source": [
    "data_train_N100 = df_N100_data_close_withoutnan[df_N100_data_close_withoutnan.Date < \"2015-01-01\"]\n",
    "data_test_N100 = df_N100_data_close_withoutnan[df_N100_data_close_withoutnan.Date >= \"2015-01-01\"]"
   ]
  },
  {
   "cell_type": "code",
   "execution_count": 117,
   "metadata": {},
   "outputs": [
    {
     "data": {
      "text/plain": [
       "Index([106950, 106951, 106952, 106953, 106954, 106955, 106956, 106957, 106958,\n",
       "       106959,\n",
       "       ...\n",
       "       112447, 112448, 112449, 112450, 112451, 112452, 112453, 112454, 112455,\n",
       "       112456],\n",
       "      dtype='int64', length=5474)"
      ]
     },
     "execution_count": 117,
     "metadata": {},
     "output_type": "execute_result"
    }
   ],
   "source": [
    "df_N100_data_close_withoutnan.index"
   ]
  },
  {
   "cell_type": "code",
   "execution_count": 118,
   "metadata": {},
   "outputs": [
    {
     "name": "stderr",
     "output_type": "stream",
     "text": [
      "/var/folders/h8/51x7qy5s3vvb8sqldgx055400000gn/T/ipykernel_44609/3222743530.py:1: SettingWithCopyWarning: \n",
      "A value is trying to be set on a copy of a slice from a DataFrame.\n",
      "Try using .loc[row_indexer,col_indexer] = value instead\n",
      "\n",
      "See the caveats in the documentation: https://pandas.pydata.org/pandas-docs/stable/user_guide/indexing.html#returning-a-view-versus-a-copy\n",
      "  data_train_N100.Date = data_train_N100.Date.map(dt.datetime.toordinal)\n"
     ]
    }
   ],
   "source": [
    "data_train_N100.Date = data_train_N100.Date.map(dt.datetime.toordinal)"
   ]
  },
  {
   "cell_type": "code",
   "execution_count": 119,
   "metadata": {},
   "outputs": [
    {
     "data": {
      "text/plain": [
       "106950    1000.000000\n",
       "106951     996.770020\n",
       "106952     955.969971\n",
       "106953     930.260010\n",
       "106954     922.460022\n",
       "             ...     \n",
       "110811     846.840027\n",
       "110812     843.859985\n",
       "110813     846.969971\n",
       "110814     834.340027\n",
       "110815     839.520020\n",
       "Name: Close, Length: 3834, dtype: float64"
      ]
     },
     "execution_count": 119,
     "metadata": {},
     "output_type": "execute_result"
    }
   ],
   "source": [
    "data_train_N100.Close"
   ]
  },
  {
   "cell_type": "code",
   "execution_count": 121,
   "metadata": {},
   "outputs": [],
   "source": [
    "X_train_N100 = np.array(data_train_N100.Date)[:, np.newaxis]\n",
    "y_train_N100 = data_train_N100.Close"
   ]
  },
  {
   "cell_type": "code",
   "execution_count": 123,
   "metadata": {},
   "outputs": [],
   "source": [
    "tree_N100 = DecisionTreeRegressor(criterion='squared_error', max_depth=50).fit(X_train_N100, y_train_N100)\n",
    "linear_reg_N100 = LinearRegression().fit(X_train_N100, y_train_N100)\n",
    "model_rf_N100 = RandomForestRegressor(n_estimators=10).fit(X_train_N100, y_train_N100)"
   ]
  },
  {
   "cell_type": "code",
   "execution_count": 125,
   "metadata": {},
   "outputs": [],
   "source": [
    "X_all_N100 = np.array(df_N100_data_close_withoutnan.Date.map(dt.datetime.toordinal))[:, np.newaxis]\n"
   ]
  },
  {
   "cell_type": "code",
   "execution_count": 126,
   "metadata": {},
   "outputs": [],
   "source": [
    "pred_tree_N100 = tree_N100.predict(X_all_N100)\n",
    "pred_lr_N100 = linear_reg_N100.predict(X_all_N100)\n",
    "pred_model_rf_N100 = model_rf_N100.predict(X_all_N100)"
   ]
  },
  {
   "cell_type": "code",
   "execution_count": 127,
   "metadata": {},
   "outputs": [],
   "source": [
    "X_N100 = np.array(data_train_N100.Date)\n",
    "y_N100 = np.array(data_train_N100.Close)\n",
    "model_coef_polyfit = poly.polyfit(X_N100, y_N100, 2)\n",
    "X_new_N100 = np.array(df_N100_data_close_withoutnan.Date.map(dt.datetime.toordinal))\n",
    "ffit_N100 = poly.polyval(X_new_N100, model_coef_polyfit)\n",
    "X_new_N100 = pd.DataFrame(X_new_N100,columns=['Date'])\n",
    "X_new_N100 = X_new_N100.Date.map(dt.datetime.fromordinal)"
   ]
  },
  {
   "cell_type": "code",
   "execution_count": 132,
   "metadata": {},
   "outputs": [
    {
     "data": {
      "text/plain": [
       "<matplotlib.legend.Legend at 0x3577f7f70>"
      ]
     },
     "execution_count": 132,
     "metadata": {},
     "output_type": "execute_result"
    },
    {
     "data": {
      "image/png": "[encoded data removed]",
      "text/plain": [
       "<Figure size 640x480 with 1 Axes>"
      ]
     },
     "metadata": {},
     "output_type": "display_data"
    }
   ],
   "source": [
    "plt.plot(df_N100_data_close_withoutnan.Date,df_N100_data_close_withoutnan.Close,label='Row Data')\n",
    "plt.plot(df_N100_data_close_withoutnan.Date,pred_tree_N100,label='Decision Tree')\n",
    "plt.plot(df_N100_data_close_withoutnan.Date,pred_lr_N100,label='Linear Regression')\n",
    "plt.plot(df_N100_data_close_withoutnan.Date,pred_model_rf_N100,label='Random Forest')\n",
    "plt.plot(X_new_N100,ffit_N100,label='Fit using Polyfit')\n",
    "plt.legend()"
   ]
  }
 ],
 "metadata": {
  "kernelspec": {
   "display_name": "Python 3",
   "language": "python",
   "name": "python3"
  },
  "language_info": {
   "codemirror_mode": {
    "name": "ipython",
    "version": 3
   },
   "file_extension": ".py",
   "mimetype": "text/x-python",
   "name": "python",
   "nbconvert_exporter": "python",
   "pygments_lexer": "ipython3",
   "version": "3.9.6"
  }
 },
 "nbformat": 4,
 "nbformat_minor": 2
}
