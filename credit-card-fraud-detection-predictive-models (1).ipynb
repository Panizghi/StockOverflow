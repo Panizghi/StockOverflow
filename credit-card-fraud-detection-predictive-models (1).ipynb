{
 "cells": [
  {
   "cell_type": "markdown",
   "id": "acceptable-import",
   "metadata": {
    "_uuid": "9027e4b0f8ddc737e1b9560eba4a4d97ef9ffcc6",
    "papermill": {
     "duration": 0.072037,
     "end_time": "2021-04-01T11:04:12.009194",
     "exception": false,
     "start_time": "2021-04-01T11:04:11.937157",
     "status": "completed"
    },
    "tags": []
   },
   "source": [
    "<h1><center><font size=\"6\">Credit Card Fraud Detection Predictive Models</font></center></h1>\n",
    "\n",
    "\n",
    "<center><img src=\"https://images.unsplash.com/photo-1563013544-824ae1b704d3?ixlib=rb-1.2.1&ixid=eyJhcHBfaWQiOjEyMDd9&auto=format&fit=crop&w=1050&q=80\" width=\"600\"></img></center>\n",
    "\n",
    "\n",
    "# <a id='0'>Content</a>\n",
    "\n",
    "- <a href='#1'>Introduction</a>  \n",
    "- <a href='#2'>Load packages</a>  \n",
    "- <a href='#3'>Read the data</a>  \n",
    "- <a href='#4'>Check the data</a>  \n",
    "    - <a href='#41'>Glimpse the data</a>  \n",
    "    - <a href='#42'>Check missing data</a>\n",
    "    - <a href='#43'>Check data unbalance</a>\n",
    "- <a href='#5'>Data exploration</a>\n",
    "- <a href='#6'>Predictive models</a>  \n",
    "    - <a href='#61'>RandomForrestClassifier</a> \n",
    "    - <a href='#62'>AdaBoostClassifier</a>     \n",
    "    - <a href='#63'>CatBoostClassifier</a> \n",
    "    - <a href='#64'>XGBoost</a> \n",
    "    - <a href='#65'>LightGBM</a> \n",
    "- <a href='#7'>Conclusions</a>\n",
    "- <a href='#8'>References</a>\n"
   ]
  },
  {
   "cell_type": "markdown",
   "id": "static-dominican",
   "metadata": {
    "_uuid": "0b64f006df02ccee229320fef8063dc5a2933c1a",
    "papermill": {
     "duration": 0.068174,
     "end_time": "2021-04-01T11:04:12.146654",
     "exception": false,
     "start_time": "2021-04-01T11:04:12.078480",
     "status": "completed"
    },
    "tags": []
   },
   "source": [
    "# <a id=\"1\">Introduction</a>  \n",
    "\n",
    "The datasets contains transactions made by credit cards in **September 2013** by european cardholders. This dataset presents transactions that occurred in two days, where we have **492 frauds** out of **284,807 transactions**. The dataset is **highly unbalanced**, the **positive class (frauds)** account for **0.172%** of all transactions.  \n",
    "\n",
    "It contains only numerical input variables which are the result of a **PCA transformation**.   \n",
    "\n",
    "Due to confidentiality issues, there are not provided the original features and more background information about the data.  \n",
    "\n",
    "* Features **V1**, **V2**, ... **V28** are the **principal components** obtained with **PCA**;  \n",
    "* The only features which have not been transformed with PCA are **Time** and **Amount**. Feature **Time** contains the seconds elapsed between each transaction and the first transaction in the dataset. The feature **Amount** is the transaction Amount, this feature can be used for example-dependant cost-senstive learning.   \n",
    "* Feature **Class** is the response variable and it takes value **1** in case of fraud and **0** otherwise.  \n",
    "\n"
   ]
  },
  {
   "cell_type": "markdown",
   "id": "cutting-departure",
   "metadata": {
    "_uuid": "e94b258fe0c91fd5bb76107c509fc896db021f2b",
    "papermill": {
     "duration": 0.068622,
     "end_time": "2021-04-01T11:04:12.283725",
     "exception": false,
     "start_time": "2021-04-01T11:04:12.215103",
     "status": "completed"
    },
    "tags": []
   },
   "source": [
    "# <a id=\"2\">Load packages</a>"
   ]
  },
  {
   "cell_type": "code",
   "execution_count": 5,
   "id": "documentary-plenty",
   "metadata": {
    "_uuid": "0f34e1e378b762166698b0136c57048a45e7858c",
    "execution": {
     "iopub.execute_input": "2021-04-01T11:04:12.425997Z",
     "iopub.status.busy": "2021-04-01T11:04:12.424837Z",
     "iopub.status.idle": "2021-04-01T11:04:17.354280Z",
     "shell.execute_reply": "2021-04-01T11:04:17.355101Z"
    },
    "papermill": {
     "duration": 5.002494,
     "end_time": "2021-04-01T11:04:17.355478",
     "exception": false,
     "start_time": "2021-04-01T11:04:12.352984",
     "status": "completed"
    },
    "tags": []
   },
   "outputs": [
    {
     "data": {
      "text/html": [
       "        <script type=\"text/javascript\">\n",
       "        window.PlotlyConfig = {MathJaxConfig: 'local'};\n",
       "        if (window.MathJax && window.MathJax.Hub && window.MathJax.Hub.Config) {window.MathJax.Hub.Config({SVG: {font: \"STIX-Web\"}});}\n",
       "        if (typeof require !== 'undefined') {\n",
       "        require.undef(\"plotly\");\n",
       "        requirejs.config({\n",
       "            paths: {\n",
       "                'plotly': ['https://cdn.plot.ly/plotly-2.32.0.min']\n",
       "            }\n",
       "        });\n",
       "        require(['plotly'], function(Plotly) {\n",
       "            window._Plotly = Plotly;\n",
       "        });\n",
       "        }\n",
       "        </script>\n",
       "        "
      ]
     },
     "metadata": {},
     "output_type": "display_data"
    },
    {
     "ename": "ModuleNotFoundError",
     "evalue": "No module named 'xgboost'",
     "output_type": "error",
     "traceback": [
      "\u001b[0;31m---------------------------------------------------------------------------\u001b[0m",
      "\u001b[0;31mModuleNotFoundError\u001b[0m                       Traceback (most recent call last)",
      "Cell \u001b[0;32mIn[5], line 25\u001b[0m\n\u001b[1;32m     23\u001b[0m \u001b[38;5;28;01mimport\u001b[39;00m \u001b[38;5;21;01mlightgbm\u001b[39;00m \u001b[38;5;28;01mas\u001b[39;00m \u001b[38;5;21;01mlgb\u001b[39;00m\n\u001b[1;32m     24\u001b[0m \u001b[38;5;28;01mfrom\u001b[39;00m \u001b[38;5;21;01mlightgbm\u001b[39;00m \u001b[38;5;28;01mimport\u001b[39;00m LGBMClassifier\n\u001b[0;32m---> 25\u001b[0m \u001b[38;5;28;01mimport\u001b[39;00m \u001b[38;5;21;01mxgboost\u001b[39;00m \u001b[38;5;28;01mas\u001b[39;00m \u001b[38;5;21;01mxgb\u001b[39;00m\n\u001b[1;32m     27\u001b[0m pd\u001b[38;5;241m.\u001b[39mset_option(\u001b[38;5;124m'\u001b[39m\u001b[38;5;124mdisplay.max_columns\u001b[39m\u001b[38;5;124m'\u001b[39m, \u001b[38;5;241m100\u001b[39m)\n\u001b[1;32m     30\u001b[0m RFC_METRIC \u001b[38;5;241m=\u001b[39m \u001b[38;5;124m'\u001b[39m\u001b[38;5;124mgini\u001b[39m\u001b[38;5;124m'\u001b[39m  \u001b[38;5;66;03m#metric used for RandomForrestClassifier\u001b[39;00m\n",
      "\u001b[0;31mModuleNotFoundError\u001b[0m: No module named 'xgboost'"
     ]
    }
   ],
   "source": [
    "import pandas as pd \n",
    "import numpy as np\n",
    "import matplotlib\n",
    "import matplotlib.pyplot as plt\n",
    "import seaborn as sns\n",
    "%matplotlib inline \n",
    "import plotly.graph_objs as go\n",
    "import plotly.figure_factory as ff\n",
    "from plotly import tools\n",
    "from plotly.offline import download_plotlyjs, init_notebook_mode, plot, iplot\n",
    "init_notebook_mode(connected=True)\n",
    "\n",
    "\n",
    "import gc\n",
    "from datetime import datetime \n",
    "from sklearn.model_selection import train_test_split\n",
    "from sklearn.model_selection import KFold\n",
    "from sklearn.metrics import roc_auc_score\n",
    "from sklearn.ensemble import RandomForestClassifier\n",
    "from sklearn.ensemble import AdaBoostClassifier\n",
    "from catboost import CatBoostClassifier\n",
    "from sklearn import svm\n",
    "import lightgbm as lgb\n",
    "from lightgbm import LGBMClassifier\n",
    "import xgboost as xgb\n",
    "\n",
    "pd.set_option('display.max_columns', 100)\n",
    "\n",
    "\n",
    "RFC_METRIC = 'gini'  #metric used for RandomForrestClassifier\n",
    "NUM_ESTIMATORS = 100 #number of estimators used for RandomForrestClassifier\n",
    "NO_JOBS = 4 #number of parallel jobs used for RandomForrestClassifier\n",
    "\n",
    "\n",
    "#TRAIN/VALIDATION/TEST SPLIT\n",
    "#VALIDATION\n",
    "VALID_SIZE = 0.20 # simple validation using train_test_split\n",
    "TEST_SIZE = 0.20 # test size using_train_test_split\n",
    "\n",
    "#CROSS-VALIDATION\n",
    "NUMBER_KFOLDS = 5 #number of KFolds for cross-validation\n",
    "\n",
    "\n",
    "\n",
    "RANDOM_STATE = 2018\n",
    "\n",
    "MAX_ROUNDS = 1000 #lgb iterations\n",
    "EARLY_STOP = 50 #lgb early stop \n",
    "OPT_ROUNDS = 1000  #To be adjusted based on best validation rounds\n",
    "VERBOSE_EVAL = 50 #Print out metric result\n",
    "\n",
    "IS_LOCAL = False\n",
    "\n",
    "import os\n",
    "\n",
    "if(IS_LOCAL):\n",
    "    PATH=\"../input/credit-card-fraud-detection\"\n",
    "else:\n",
    "    PATH=\"../input\"\n",
    "print(os.listdir(PATH))"
   ]
  },
  {
   "cell_type": "markdown",
   "id": "particular-fifth",
   "metadata": {
    "_uuid": "9eb142be459775c38046265e3b27ccbfd63ed0f6",
    "papermill": {
     "duration": 0.07484,
     "end_time": "2021-04-01T11:04:17.511805",
     "exception": false,
     "start_time": "2021-04-01T11:04:17.436965",
     "status": "completed"
    },
    "tags": []
   },
   "source": [
    "# <a id=\"3\">Read the data</a>"
   ]
  },
  {
   "cell_type": "code",
   "execution_count": null,
   "id": "heavy-delight",
   "metadata": {
    "_uuid": "42e4a9f9b53f6d46cabd00b64a0e9f52b7abcd82",
    "execution": {
     "iopub.execute_input": "2021-04-01T11:04:17.670951Z",
     "iopub.status.busy": "2021-04-01T11:04:17.670248Z",
     "iopub.status.idle": "2021-04-01T11:04:22.457679Z",
     "shell.execute_reply": "2021-04-01T11:04:22.457094Z"
    },
    "papermill": {
     "duration": 4.864356,
     "end_time": "2021-04-01T11:04:22.457831",
     "exception": false,
     "start_time": "2021-04-01T11:04:17.593475",
     "status": "completed"
    },
    "tags": []
   },
   "outputs": [],
   "source": [
    "data_df = pd.read_csv(PATH+\"/creditcard.csv\")"
   ]
  },
  {
   "cell_type": "markdown",
   "id": "cooked-catch",
   "metadata": {
    "_uuid": "0148d5c242773fbe8a10ae54873b6e59b083398e",
    "papermill": {
     "duration": 0.070628,
     "end_time": "2021-04-01T11:04:22.600125",
     "exception": false,
     "start_time": "2021-04-01T11:04:22.529497",
     "status": "completed"
    },
    "tags": []
   },
   "source": [
    "# <a id=\"4\">Check the data</a>"
   ]
  },
  {
   "cell_type": "code",
   "execution_count": null,
   "id": "prompt-saudi",
   "metadata": {
    "_uuid": "ed93a290bcf10bcf817dc9489a308d489c0cfd40",
    "execution": {
     "iopub.execute_input": "2021-04-01T11:04:22.747034Z",
     "iopub.status.busy": "2021-04-01T11:04:22.746026Z",
     "iopub.status.idle": "2021-04-01T11:04:22.749467Z",
     "shell.execute_reply": "2021-04-01T11:04:22.750196Z"
    },
    "papermill": {
     "duration": 0.07994,
     "end_time": "2021-04-01T11:04:22.750415",
     "exception": false,
     "start_time": "2021-04-01T11:04:22.670475",
     "status": "completed"
    },
    "tags": []
   },
   "outputs": [],
   "source": [
    "print(\"Credit Card Fraud Detection data -  rows:\",data_df.shape[0],\" columns:\", data_df.shape[1])"
   ]
  },
  {
   "cell_type": "markdown",
   "id": "raising-trick",
   "metadata": {
    "_uuid": "91c1d7ca1b2e1a15d2dd83c3478df667d6ba6ace",
    "papermill": {
     "duration": 0.071511,
     "end_time": "2021-04-01T11:04:22.896956",
     "exception": false,
     "start_time": "2021-04-01T11:04:22.825445",
     "status": "completed"
    },
    "tags": []
   },
   "source": [
    "## <a id=\"41\">Glimpse the data</a>\n",
    "\n",
    "We start by looking to the data features (first 5 rows)."
   ]
  },
  {
   "cell_type": "code",
   "execution_count": null,
   "id": "vocal-franklin",
   "metadata": {
    "_uuid": "c426639fdeb77bea60513724c6c438a5e8a02f8a",
    "execution": {
     "iopub.execute_input": "2021-04-01T11:04:23.050690Z",
     "iopub.status.busy": "2021-04-01T11:04:23.049951Z",
     "iopub.status.idle": "2021-04-01T11:04:23.092089Z",
     "shell.execute_reply": "2021-04-01T11:04:23.092615Z"
    },
    "papermill": {
     "duration": 0.124672,
     "end_time": "2021-04-01T11:04:23.092806",
     "exception": false,
     "start_time": "2021-04-01T11:04:22.968134",
     "status": "completed"
    },
    "tags": []
   },
   "outputs": [],
   "source": [
    "data_df.head()"
   ]
  },
  {
   "cell_type": "markdown",
   "id": "novel-seafood",
   "metadata": {
    "_uuid": "df10bc43389fb9e8159150a566bd52abd0dd2839",
    "papermill": {
     "duration": 0.071324,
     "end_time": "2021-04-01T11:04:23.236158",
     "exception": false,
     "start_time": "2021-04-01T11:04:23.164834",
     "status": "completed"
    },
    "tags": []
   },
   "source": [
    "Let's look into more details to the data."
   ]
  },
  {
   "cell_type": "code",
   "execution_count": null,
   "id": "likely-canberra",
   "metadata": {
    "_uuid": "8705f721907820bfc8c720f2f5ac5e0f9f28fa42",
    "execution": {
     "iopub.execute_input": "2021-04-01T11:04:23.419073Z",
     "iopub.status.busy": "2021-04-01T11:04:23.416321Z",
     "iopub.status.idle": "2021-04-01T11:04:23.827838Z",
     "shell.execute_reply": "2021-04-01T11:04:23.827153Z"
    },
    "papermill": {
     "duration": 0.520226,
     "end_time": "2021-04-01T11:04:23.828049",
     "exception": false,
     "start_time": "2021-04-01T11:04:23.307823",
     "status": "completed"
    },
    "tags": []
   },
   "outputs": [],
   "source": [
    "data_df.describe()"
   ]
  },
  {
   "cell_type": "markdown",
   "id": "verbal-aviation",
   "metadata": {
    "_uuid": "bf88e4180834a1bf7e76a583328094926fade824",
    "papermill": {
     "duration": 0.072885,
     "end_time": "2021-04-01T11:04:23.975510",
     "exception": false,
     "start_time": "2021-04-01T11:04:23.902625",
     "status": "completed"
    },
    "tags": []
   },
   "source": [
    "Looking to the **Time** feature, we can confirm that the data contains **284,807** transactions, during 2 consecutive days (or **172792** seconds)."
   ]
  },
  {
   "cell_type": "markdown",
   "id": "generous-transparency",
   "metadata": {
    "_uuid": "39299ca7dc0324113fcd854530cbe7a945cc94bb",
    "papermill": {
     "duration": 0.073921,
     "end_time": "2021-04-01T11:04:24.122510",
     "exception": false,
     "start_time": "2021-04-01T11:04:24.048589",
     "status": "completed"
    },
    "tags": []
   },
   "source": [
    "## <a id=\"42\">Check missing data</a>  \n",
    "\n",
    "Let's check if there is any missing data."
   ]
  },
  {
   "cell_type": "code",
   "execution_count": null,
   "id": "competitive-supplement",
   "metadata": {
    "_uuid": "51940c5cfb59bb4720d70157c310a339ce483eb6",
    "execution": {
     "iopub.execute_input": "2021-04-01T11:04:24.275145Z",
     "iopub.status.busy": "2021-04-01T11:04:24.273966Z",
     "iopub.status.idle": "2021-04-01T11:04:24.382561Z",
     "shell.execute_reply": "2021-04-01T11:04:24.383159Z"
    },
    "papermill": {
     "duration": 0.18817,
     "end_time": "2021-04-01T11:04:24.383346",
     "exception": false,
     "start_time": "2021-04-01T11:04:24.195176",
     "status": "completed"
    },
    "tags": []
   },
   "outputs": [],
   "source": [
    "total = data_df.isnull().sum().sort_values(ascending = False)\n",
    "percent = (data_df.isnull().sum()/data_df.isnull().count()*100).sort_values(ascending = False)\n",
    "pd.concat([total, percent], axis=1, keys=['Total', 'Percent']).transpose()"
   ]
  },
  {
   "cell_type": "markdown",
   "id": "arctic-pierre",
   "metadata": {
    "_uuid": "aa67814319f2b87367a7a675d956f1aa8f806363",
    "papermill": {
     "duration": 0.073115,
     "end_time": "2021-04-01T11:04:24.530812",
     "exception": false,
     "start_time": "2021-04-01T11:04:24.457697",
     "status": "completed"
    },
    "tags": []
   },
   "source": [
    "There is no missing data in the entire dataset."
   ]
  },
  {
   "cell_type": "markdown",
   "id": "ongoing-death",
   "metadata": {
    "_uuid": "5c17d77aaa693057767dc2a0a23efbcae8f9f34e",
    "papermill": {
     "duration": 0.072836,
     "end_time": "2021-04-01T11:04:24.677016",
     "exception": false,
     "start_time": "2021-04-01T11:04:24.604180",
     "status": "completed"
    },
    "tags": []
   },
   "source": [
    "## <a id=\"43\">Data unbalance</a>"
   ]
  },
  {
   "cell_type": "markdown",
   "id": "knowing-liverpool",
   "metadata": {
    "_uuid": "dc1ecb4caa03723aa3e3153fe1311ed532464b54",
    "papermill": {
     "duration": 0.076057,
     "end_time": "2021-04-01T11:04:24.826076",
     "exception": false,
     "start_time": "2021-04-01T11:04:24.750019",
     "status": "completed"
    },
    "tags": []
   },
   "source": [
    "Let's check data unbalance with respect with *target* value, i.e. **Class**."
   ]
  },
  {
   "cell_type": "code",
   "execution_count": null,
   "id": "accepting-attachment",
   "metadata": {
    "_uuid": "c07847fe84817c98455db7ad7e49c5d991ac58a9",
    "execution": {
     "iopub.execute_input": "2021-04-01T11:04:24.983717Z",
     "iopub.status.busy": "2021-04-01T11:04:24.982751Z",
     "iopub.status.idle": "2021-04-01T11:04:25.864657Z",
     "shell.execute_reply": "2021-04-01T11:04:25.863817Z"
    },
    "papermill": {
     "duration": 0.96545,
     "end_time": "2021-04-01T11:04:25.864867",
     "exception": false,
     "start_time": "2021-04-01T11:04:24.899417",
     "status": "completed"
    },
    "tags": []
   },
   "outputs": [],
   "source": [
    "temp = data_df[\"Class\"].value_counts()\n",
    "df = pd.DataFrame({'Class': temp.index,'values': temp.values})\n",
    "\n",
    "trace = go.Bar(\n",
    "    x = df['Class'],y = df['values'],\n",
    "    name=\"Credit Card Fraud Class - data unbalance (Not fraud = 0, Fraud = 1)\",\n",
    "    marker=dict(color=\"Red\"),\n",
    "    text=df['values']\n",
    ")\n",
    "data = [trace]\n",
    "layout = dict(title = 'Credit Card Fraud Class - data unbalance (Not fraud = 0, Fraud = 1)',\n",
    "          xaxis = dict(title = 'Class', showticklabels=True), \n",
    "          yaxis = dict(title = 'Number of transactions'),\n",
    "          hovermode = 'closest',width=600\n",
    "         )\n",
    "fig = dict(data=data, layout=layout)\n",
    "iplot(fig, filename='class')"
   ]
  },
  {
   "cell_type": "markdown",
   "id": "civil-prescription",
   "metadata": {
    "_uuid": "77eddeb05f44c47ee4a1be98bb22bb3cb0345030",
    "papermill": {
     "duration": 0.080766,
     "end_time": "2021-04-01T11:04:26.043600",
     "exception": false,
     "start_time": "2021-04-01T11:04:25.962834",
     "status": "completed"
    },
    "tags": []
   },
   "source": [
    "Only **492** (or **0.172%**) of transaction are fraudulent. That means the data is highly unbalanced with respect with target variable **Class**."
   ]
  },
  {
   "cell_type": "markdown",
   "id": "under-sport",
   "metadata": {
    "_uuid": "88fc9ad3d2dde75457f3b8c5417e07cbd9564a30",
    "papermill": {
     "duration": 0.078867,
     "end_time": "2021-04-01T11:04:26.202850",
     "exception": false,
     "start_time": "2021-04-01T11:04:26.123983",
     "status": "completed"
    },
    "tags": []
   },
   "source": [
    "# <a id=\"5\">Data exploration</a>"
   ]
  },
  {
   "cell_type": "markdown",
   "id": "unique-eight",
   "metadata": {
    "_uuid": "b3c42863cec8d34e87dc098b85b3c709ec2739c0",
    "papermill": {
     "duration": 0.079141,
     "end_time": "2021-04-01T11:04:26.361510",
     "exception": false,
     "start_time": "2021-04-01T11:04:26.282369",
     "status": "completed"
    },
    "tags": []
   },
   "source": [
    "## Transactions in time"
   ]
  },
  {
   "cell_type": "code",
   "execution_count": null,
   "id": "accepting-tablet",
   "metadata": {
    "_uuid": "b9521e8cc9f179887c5dc454ed84d0ba20e55946",
    "execution": {
     "iopub.execute_input": "2021-04-01T11:04:26.530309Z",
     "iopub.status.busy": "2021-04-01T11:04:26.529135Z",
     "iopub.status.idle": "2021-04-01T11:04:30.105191Z",
     "shell.execute_reply": "2021-04-01T11:04:30.105725Z"
    },
    "papermill": {
     "duration": 3.664559,
     "end_time": "2021-04-01T11:04:30.105901",
     "exception": false,
     "start_time": "2021-04-01T11:04:26.441342",
     "status": "completed"
    },
    "tags": []
   },
   "outputs": [],
   "source": [
    "class_0 = data_df.loc[data_df['Class'] == 0][\"Time\"]\n",
    "class_1 = data_df.loc[data_df['Class'] == 1][\"Time\"]\n",
    "\n",
    "hist_data = [class_0, class_1]\n",
    "group_labels = ['Not Fraud', 'Fraud']\n",
    "\n",
    "fig = ff.create_distplot(hist_data, group_labels, show_hist=False, show_rug=False)\n",
    "fig['layout'].update(title='Credit Card Transactions Time Density Plot', xaxis=dict(title='Time [s]'))\n",
    "iplot(fig, filename='dist_only')"
   ]
  },
  {
   "cell_type": "markdown",
   "id": "distributed-training",
   "metadata": {
    "_uuid": "64cd713602c33ce4491492088279f26adc209674",
    "papermill": {
     "duration": 0.092706,
     "end_time": "2021-04-01T11:04:30.292349",
     "exception": false,
     "start_time": "2021-04-01T11:04:30.199643",
     "status": "completed"
    },
    "tags": []
   },
   "source": [
    "Fraudulent transactions have a distribution more even than valid transactions - are equaly distributed in time, including the low real transaction times, during night in Europe timezone."
   ]
  },
  {
   "cell_type": "markdown",
   "id": "tired-marketplace",
   "metadata": {
    "papermill": {
     "duration": 0.092778,
     "end_time": "2021-04-01T11:04:30.479182",
     "exception": false,
     "start_time": "2021-04-01T11:04:30.386404",
     "status": "completed"
    },
    "tags": []
   },
   "source": [
    "Let's look into more details to the time distribution of both classes transaction, as well as to aggregated values of transaction count and amount, per hour. We assume (based on observation of the time distribution of transactions) that the time unit is second."
   ]
  },
  {
   "cell_type": "code",
   "execution_count": null,
   "id": "relative-richardson",
   "metadata": {
    "execution": {
     "iopub.execute_input": "2021-04-01T11:04:30.668944Z",
     "iopub.status.busy": "2021-04-01T11:04:30.668010Z",
     "iopub.status.idle": "2021-04-01T11:04:31.317004Z",
     "shell.execute_reply": "2021-04-01T11:04:31.317495Z"
    },
    "papermill": {
     "duration": 0.74566,
     "end_time": "2021-04-01T11:04:31.317707",
     "exception": false,
     "start_time": "2021-04-01T11:04:30.572047",
     "status": "completed"
    },
    "tags": []
   },
   "outputs": [],
   "source": [
    "data_df['Hour'] = data_df['Time'].apply(lambda x: np.floor(x / 3600))\n",
    "\n",
    "tmp = data_df.groupby(['Hour', 'Class'])['Amount'].aggregate(['min', 'max', 'count', 'sum', 'mean', 'median', 'var']).reset_index()\n",
    "df = pd.DataFrame(tmp)\n",
    "df.columns = ['Hour', 'Class', 'Min', 'Max', 'Transactions', 'Sum', 'Mean', 'Median', 'Var']\n",
    "df.head()"
   ]
  },
  {
   "cell_type": "code",
   "execution_count": null,
   "id": "breathing-marking",
   "metadata": {
    "execution": {
     "iopub.execute_input": "2021-04-01T11:04:31.531715Z",
     "iopub.status.busy": "2021-04-01T11:04:31.530989Z",
     "iopub.status.idle": "2021-04-01T11:04:31.840747Z",
     "shell.execute_reply": "2021-04-01T11:04:31.840185Z"
    },
    "papermill": {
     "duration": 0.427789,
     "end_time": "2021-04-01T11:04:31.840903",
     "exception": false,
     "start_time": "2021-04-01T11:04:31.413114",
     "status": "completed"
    },
    "tags": []
   },
   "outputs": [],
   "source": [
    "fig, (ax1, ax2) = plt.subplots(ncols=2, figsize=(18,6))\n",
    "s = sns.lineplot(ax = ax1, x=\"Hour\", y=\"Sum\", data=df.loc[df.Class==0])\n",
    "s = sns.lineplot(ax = ax2, x=\"Hour\", y=\"Sum\", data=df.loc[df.Class==1], color=\"red\")\n",
    "plt.suptitle(\"Total Amount\")\n",
    "plt.show();"
   ]
  },
  {
   "cell_type": "code",
   "execution_count": null,
   "id": "resident-exhaust",
   "metadata": {
    "execution": {
     "iopub.execute_input": "2021-04-01T11:04:32.096165Z",
     "iopub.status.busy": "2021-04-01T11:04:32.085897Z",
     "iopub.status.idle": "2021-04-01T11:04:32.346701Z",
     "shell.execute_reply": "2021-04-01T11:04:32.346127Z"
    },
    "papermill": {
     "duration": 0.408714,
     "end_time": "2021-04-01T11:04:32.346843",
     "exception": false,
     "start_time": "2021-04-01T11:04:31.938129",
     "status": "completed"
    },
    "tags": []
   },
   "outputs": [],
   "source": [
    "fig, (ax1, ax2) = plt.subplots(ncols=2, figsize=(18,6))\n",
    "s = sns.lineplot(ax = ax1, x=\"Hour\", y=\"Transactions\", data=df.loc[df.Class==0])\n",
    "s = sns.lineplot(ax = ax2, x=\"Hour\", y=\"Transactions\", data=df.loc[df.Class==1], color=\"red\")\n",
    "plt.suptitle(\"Total Number of Transactions\")\n",
    "plt.show();"
   ]
  },
  {
   "cell_type": "code",
   "execution_count": null,
   "id": "romantic-ownership",
   "metadata": {
    "execution": {
     "iopub.execute_input": "2021-04-01T11:04:32.680774Z",
     "iopub.status.busy": "2021-04-01T11:04:32.614274Z",
     "iopub.status.idle": "2021-04-01T11:04:32.875065Z",
     "shell.execute_reply": "2021-04-01T11:04:32.874413Z"
    },
    "papermill": {
     "duration": 0.429414,
     "end_time": "2021-04-01T11:04:32.875205",
     "exception": false,
     "start_time": "2021-04-01T11:04:32.445791",
     "status": "completed"
    },
    "tags": []
   },
   "outputs": [],
   "source": [
    "fig, (ax1, ax2) = plt.subplots(ncols=2, figsize=(18,6))\n",
    "s = sns.lineplot(ax = ax1, x=\"Hour\", y=\"Mean\", data=df.loc[df.Class==0])\n",
    "s = sns.lineplot(ax = ax2, x=\"Hour\", y=\"Mean\", data=df.loc[df.Class==1], color=\"red\")\n",
    "plt.suptitle(\"Average Amount of Transactions\")\n",
    "plt.show();"
   ]
  },
  {
   "cell_type": "code",
   "execution_count": null,
   "id": "divine-edmonton",
   "metadata": {
    "execution": {
     "iopub.execute_input": "2021-04-01T11:04:33.251581Z",
     "iopub.status.busy": "2021-04-01T11:04:33.237840Z",
     "iopub.status.idle": "2021-04-01T11:04:33.509895Z",
     "shell.execute_reply": "2021-04-01T11:04:33.510396Z"
    },
    "papermill": {
     "duration": 0.534813,
     "end_time": "2021-04-01T11:04:33.510583",
     "exception": false,
     "start_time": "2021-04-01T11:04:32.975770",
     "status": "completed"
    },
    "tags": []
   },
   "outputs": [],
   "source": [
    "fig, (ax1, ax2) = plt.subplots(ncols=2, figsize=(18,6))\n",
    "s = sns.lineplot(ax = ax1, x=\"Hour\", y=\"Max\", data=df.loc[df.Class==0])\n",
    "s = sns.lineplot(ax = ax2, x=\"Hour\", y=\"Max\", data=df.loc[df.Class==1], color=\"red\")\n",
    "plt.suptitle(\"Maximum Amount of Transactions\")\n",
    "plt.show();"
   ]
  },
  {
   "cell_type": "code",
   "execution_count": null,
   "id": "square-button",
   "metadata": {
    "execution": {
     "iopub.execute_input": "2021-04-01T11:04:33.762790Z",
     "iopub.status.busy": "2021-04-01T11:04:33.759459Z",
     "iopub.status.idle": "2021-04-01T11:04:34.026619Z",
     "shell.execute_reply": "2021-04-01T11:04:34.026004Z"
    },
    "papermill": {
     "duration": 0.414428,
     "end_time": "2021-04-01T11:04:34.026770",
     "exception": false,
     "start_time": "2021-04-01T11:04:33.612342",
     "status": "completed"
    },
    "tags": []
   },
   "outputs": [],
   "source": [
    "fig, (ax1, ax2) = plt.subplots(ncols=2, figsize=(18,6))\n",
    "s = sns.lineplot(ax = ax1, x=\"Hour\", y=\"Median\", data=df.loc[df.Class==0])\n",
    "s = sns.lineplot(ax = ax2, x=\"Hour\", y=\"Median\", data=df.loc[df.Class==1], color=\"red\")\n",
    "plt.suptitle(\"Median Amount of Transactions\")\n",
    "plt.show();"
   ]
  },
  {
   "cell_type": "code",
   "execution_count": null,
   "id": "equipped-harrison",
   "metadata": {
    "execution": {
     "iopub.execute_input": "2021-04-01T11:04:34.319170Z",
     "iopub.status.busy": "2021-04-01T11:04:34.306431Z",
     "iopub.status.idle": "2021-04-01T11:04:34.550356Z",
     "shell.execute_reply": "2021-04-01T11:04:34.549705Z"
    },
    "papermill": {
     "duration": 0.417892,
     "end_time": "2021-04-01T11:04:34.550495",
     "exception": false,
     "start_time": "2021-04-01T11:04:34.132603",
     "status": "completed"
    },
    "tags": []
   },
   "outputs": [],
   "source": [
    "fig, (ax1, ax2) = plt.subplots(ncols=2, figsize=(18,6))\n",
    "s = sns.lineplot(ax = ax1, x=\"Hour\", y=\"Min\", data=df.loc[df.Class==0])\n",
    "s = sns.lineplot(ax = ax2, x=\"Hour\", y=\"Min\", data=df.loc[df.Class==1], color=\"red\")\n",
    "plt.suptitle(\"Minimum Amount of Transactions\")\n",
    "plt.show();"
   ]
  },
  {
   "cell_type": "markdown",
   "id": "harmful-thirty",
   "metadata": {
    "_uuid": "c4393be5698f192c6839e8d372b453ed247d40d5",
    "papermill": {
     "duration": 0.105448,
     "end_time": "2021-04-01T11:04:34.761348",
     "exception": false,
     "start_time": "2021-04-01T11:04:34.655900",
     "status": "completed"
    },
    "tags": []
   },
   "source": [
    "## Transactions amount"
   ]
  },
  {
   "cell_type": "code",
   "execution_count": null,
   "id": "clear-cooperative",
   "metadata": {
    "_uuid": "639b6fec6066d52f91c6766ef372df39a39c2fe1",
    "execution": {
     "iopub.execute_input": "2021-04-01T11:04:35.000729Z",
     "iopub.status.busy": "2021-04-01T11:04:34.999051Z",
     "iopub.status.idle": "2021-04-01T11:04:35.469738Z",
     "shell.execute_reply": "2021-04-01T11:04:35.469207Z"
    },
    "papermill": {
     "duration": 0.6008,
     "end_time": "2021-04-01T11:04:35.469882",
     "exception": false,
     "start_time": "2021-04-01T11:04:34.869082",
     "status": "completed"
    },
    "tags": []
   },
   "outputs": [],
   "source": [
    "fig, (ax1, ax2) = plt.subplots(ncols=2, figsize=(12,6))\n",
    "s = sns.boxplot(ax = ax1, x=\"Class\", y=\"Amount\", hue=\"Class\",data=data_df, palette=\"PRGn\",showfliers=True)\n",
    "s = sns.boxplot(ax = ax2, x=\"Class\", y=\"Amount\", hue=\"Class\",data=data_df, palette=\"PRGn\",showfliers=False)\n",
    "plt.show();"
   ]
  },
  {
   "cell_type": "code",
   "execution_count": null,
   "id": "consecutive-bonus",
   "metadata": {
    "_uuid": "2a797b1b01b66a3171197cbfc1a1a37bf36b0d57",
    "execution": {
     "iopub.execute_input": "2021-04-01T11:04:35.689668Z",
     "iopub.status.busy": "2021-04-01T11:04:35.689015Z",
     "iopub.status.idle": "2021-04-01T11:04:35.783641Z",
     "shell.execute_reply": "2021-04-01T11:04:35.782900Z"
    },
    "papermill": {
     "duration": 0.207086,
     "end_time": "2021-04-01T11:04:35.783784",
     "exception": false,
     "start_time": "2021-04-01T11:04:35.576698",
     "status": "completed"
    },
    "tags": []
   },
   "outputs": [],
   "source": [
    "tmp = data_df[['Amount','Class']].copy()\n",
    "class_0 = tmp.loc[tmp['Class'] == 0]['Amount']\n",
    "class_1 = tmp.loc[tmp['Class'] == 1]['Amount']\n",
    "class_0.describe()"
   ]
  },
  {
   "cell_type": "code",
   "execution_count": null,
   "id": "younger-saver",
   "metadata": {
    "_uuid": "90705320eb4f147ec29f13620e010501217b981d",
    "execution": {
     "iopub.execute_input": "2021-04-01T11:04:36.009665Z",
     "iopub.status.busy": "2021-04-01T11:04:36.008992Z",
     "iopub.status.idle": "2021-04-01T11:04:36.012636Z",
     "shell.execute_reply": "2021-04-01T11:04:36.011997Z"
    },
    "papermill": {
     "duration": 0.120297,
     "end_time": "2021-04-01T11:04:36.012775",
     "exception": false,
     "start_time": "2021-04-01T11:04:35.892478",
     "status": "completed"
    },
    "tags": []
   },
   "outputs": [],
   "source": [
    "class_1.describe()"
   ]
  },
  {
   "cell_type": "markdown",
   "id": "oriented-marathon",
   "metadata": {
    "_uuid": "a6aedd49dc678f1a022ddc98901b0a53758bc7f6",
    "papermill": {
     "duration": 0.106851,
     "end_time": "2021-04-01T11:04:36.227756",
     "exception": false,
     "start_time": "2021-04-01T11:04:36.120905",
     "status": "completed"
    },
    "tags": []
   },
   "source": [
    "The real transaction have a larger mean value, larger Q1, smaller Q3 and Q4 and larger outliers; fraudulent transactions have a smaller Q1 and mean, larger Q4 and smaller outliers.\n",
    "\n",
    "Let's plot the fraudulent transactions (amount) against time. The time is shown is seconds from the start of the time period (totaly 48h, over 2 days)."
   ]
  },
  {
   "cell_type": "code",
   "execution_count": null,
   "id": "legal-visiting",
   "metadata": {
    "_uuid": "29575f5187154024c911642bd329289199253a90",
    "execution": {
     "iopub.execute_input": "2021-04-01T11:04:36.452470Z",
     "iopub.status.busy": "2021-04-01T11:04:36.450820Z",
     "iopub.status.idle": "2021-04-01T11:04:36.505111Z",
     "shell.execute_reply": "2021-04-01T11:04:36.505619Z"
    },
    "papermill": {
     "duration": 0.171169,
     "end_time": "2021-04-01T11:04:36.505786",
     "exception": false,
     "start_time": "2021-04-01T11:04:36.334617",
     "status": "completed"
    },
    "tags": []
   },
   "outputs": [],
   "source": [
    "fraud = data_df.loc[data_df['Class'] == 1]\n",
    "\n",
    "trace = go.Scatter(\n",
    "    x = fraud['Time'],y = fraud['Amount'],\n",
    "    name=\"Amount\",\n",
    "     marker=dict(\n",
    "                color='rgb(238,23,11)',\n",
    "                line=dict(\n",
    "                    color='red',\n",
    "                    width=1),\n",
    "                opacity=0.5,\n",
    "            ),\n",
    "    text= fraud['Amount'],\n",
    "    mode = \"markers\"\n",
    ")\n",
    "data = [trace]\n",
    "layout = dict(title = 'Amount of fraudulent transactions',\n",
    "          xaxis = dict(title = 'Time [s]', showticklabels=True), \n",
    "          yaxis = dict(title = 'Amount'),\n",
    "          hovermode='closest'\n",
    "         )\n",
    "fig = dict(data=data, layout=layout)\n",
    "iplot(fig, filename='fraud-amount')"
   ]
  },
  {
   "cell_type": "markdown",
   "id": "alike-baghdad",
   "metadata": {
    "_uuid": "1f144ed18c23667fde41f190c060a8bd4990b7be",
    "papermill": {
     "duration": 0.117009,
     "end_time": "2021-04-01T11:04:36.740969",
     "exception": false,
     "start_time": "2021-04-01T11:04:36.623960",
     "status": "completed"
    },
    "tags": []
   },
   "source": [
    "## Features correlation"
   ]
  },
  {
   "cell_type": "code",
   "execution_count": null,
   "id": "constant-invasion",
   "metadata": {
    "_uuid": "2a35594b8bf2ec37febec7570d4d3a25872b648b",
    "execution": {
     "iopub.execute_input": "2021-04-01T11:04:37.050553Z",
     "iopub.status.busy": "2021-04-01T11:04:37.049512Z",
     "iopub.status.idle": "2021-04-01T11:04:38.596828Z",
     "shell.execute_reply": "2021-04-01T11:04:38.596131Z"
    },
    "papermill": {
     "duration": 1.695028,
     "end_time": "2021-04-01T11:04:38.596981",
     "exception": false,
     "start_time": "2021-04-01T11:04:36.901953",
     "status": "completed"
    },
    "tags": []
   },
   "outputs": [],
   "source": [
    "plt.figure(figsize = (14,14))\n",
    "plt.title('Credit Card Transactions features correlation plot (Pearson)')\n",
    "corr = data_df.corr()\n",
    "sns.heatmap(corr,xticklabels=corr.columns,yticklabels=corr.columns,linewidths=.1,cmap=\"Reds\")\n",
    "plt.show()"
   ]
  },
  {
   "cell_type": "markdown",
   "id": "distinct-millennium",
   "metadata": {
    "_uuid": "8db97792d1f815582f037455e9ead600f8c9433c",
    "papermill": {
     "duration": 0.119256,
     "end_time": "2021-04-01T11:04:38.836664",
     "exception": false,
     "start_time": "2021-04-01T11:04:38.717408",
     "status": "completed"
    },
    "tags": []
   },
   "source": [
    "As expected, there is no notable correlation between features **V1**-**V28**. There are certain correlations between some of these features and **Time** (inverse correlation with **V3**) and **Amount** (direct correlation with **V7** and **V20**, inverse correlation with **V1** and **V5**).\n",
    "\n",
    "\n",
    "Let's plot the correlated and inverse correlated values on the same graph.\n",
    "\n",
    "Let's start with the direct correlated values: {V20;Amount} and {V7;Amount}."
   ]
  },
  {
   "cell_type": "code",
   "execution_count": null,
   "id": "structural-florence",
   "metadata": {
    "_uuid": "fd8f8bd03486fe3f2d7c89d00a5c0575a153d969",
    "execution": {
     "iopub.execute_input": "2021-04-01T11:04:39.088998Z",
     "iopub.status.busy": "2021-04-01T11:04:39.088252Z",
     "iopub.status.idle": "2021-04-01T11:05:56.132207Z",
     "shell.execute_reply": "2021-04-01T11:05:56.131633Z"
    },
    "papermill": {
     "duration": 77.175653,
     "end_time": "2021-04-01T11:05:56.132353",
     "exception": false,
     "start_time": "2021-04-01T11:04:38.956700",
     "status": "completed"
    },
    "tags": []
   },
   "outputs": [],
   "source": [
    "s = sns.lmplot(x='V20', y='Amount',data=data_df, hue='Class', fit_reg=True,scatter_kws={'s':2})\n",
    "s = sns.lmplot(x='V7', y='Amount',data=data_df, hue='Class', fit_reg=True,scatter_kws={'s':2})\n",
    "plt.show()"
   ]
  },
  {
   "cell_type": "markdown",
   "id": "executive-trail",
   "metadata": {
    "_uuid": "7430c8631e2a7b34b7d4b0dabf2fb006f88d6f8a",
    "papermill": {
     "duration": 0.121631,
     "end_time": "2021-04-01T11:05:56.426722",
     "exception": false,
     "start_time": "2021-04-01T11:05:56.305091",
     "status": "completed"
    },
    "tags": []
   },
   "source": [
    "We can confirm that the two couples of features are correlated (the regression lines for **Class = 0** have a positive slope, whilst the regression line for **Class = 1** have a smaller positive slope).\n",
    "\n",
    "Let's plot now the inverse correlated values."
   ]
  },
  {
   "cell_type": "code",
   "execution_count": null,
   "id": "naked-corner",
   "metadata": {
    "_uuid": "4ae4211f20ba8db85b7f8f61ade2d24788be9aa4",
    "execution": {
     "iopub.execute_input": "2021-04-01T11:05:56.704899Z",
     "iopub.status.busy": "2021-04-01T11:05:56.703928Z",
     "iopub.status.idle": "2021-04-01T11:07:13.457805Z",
     "shell.execute_reply": "2021-04-01T11:07:13.457251Z"
    },
    "papermill": {
     "duration": 76.893592,
     "end_time": "2021-04-01T11:07:13.457965",
     "exception": false,
     "start_time": "2021-04-01T11:05:56.564373",
     "status": "completed"
    },
    "tags": []
   },
   "outputs": [],
   "source": [
    "s = sns.lmplot(x='V2', y='Amount',data=data_df, hue='Class', fit_reg=True,scatter_kws={'s':2})\n",
    "s = sns.lmplot(x='V5', y='Amount',data=data_df, hue='Class', fit_reg=True,scatter_kws={'s':2})\n",
    "plt.show()"
   ]
  },
  {
   "cell_type": "markdown",
   "id": "disabled-bread",
   "metadata": {
    "_uuid": "b5e0440e0cd0c950190fffc539ddeb63de13b7fb",
    "papermill": {
     "duration": 0.123887,
     "end_time": "2021-04-01T11:07:13.705839",
     "exception": false,
     "start_time": "2021-04-01T11:07:13.581952",
     "status": "completed"
    },
    "tags": []
   },
   "source": [
    "We can confirm that the two couples of features are inverse correlated (the regression lines for **Class = 0** have a negative slope while the regression lines for **Class = 1** have a very small negative slope).\n"
   ]
  },
  {
   "cell_type": "markdown",
   "id": "plain-confidence",
   "metadata": {
    "_uuid": "5bdb7deecd32fd919f5431e8b5b02b6392ccd5bc",
    "papermill": {
     "duration": 0.123414,
     "end_time": "2021-04-01T11:07:13.953195",
     "exception": false,
     "start_time": "2021-04-01T11:07:13.829781",
     "status": "completed"
    },
    "tags": []
   },
   "source": [
    "## Features density plot"
   ]
  },
  {
   "cell_type": "code",
   "execution_count": null,
   "id": "supreme-galaxy",
   "metadata": {
    "_uuid": "b041d9877768c687ab4d2b314dbef5f4f3738176",
    "execution": {
     "iopub.execute_input": "2021-04-01T11:07:14.212656Z",
     "iopub.status.busy": "2021-04-01T11:07:14.212005Z",
     "iopub.status.idle": "2021-04-01T11:08:01.679761Z",
     "shell.execute_reply": "2021-04-01T11:08:01.679110Z"
    },
    "papermill": {
     "duration": 47.601043,
     "end_time": "2021-04-01T11:08:01.679903",
     "exception": false,
     "start_time": "2021-04-01T11:07:14.078860",
     "status": "completed"
    },
    "tags": []
   },
   "outputs": [],
   "source": [
    "var = data_df.columns.values\n",
    "\n",
    "i = 0\n",
    "t0 = data_df.loc[data_df['Class'] == 0]\n",
    "t1 = data_df.loc[data_df['Class'] == 1]\n",
    "\n",
    "sns.set_style('whitegrid')\n",
    "plt.figure()\n",
    "fig, ax = plt.subplots(8,4,figsize=(16,28))\n",
    "\n",
    "for feature in var:\n",
    "    i += 1\n",
    "    plt.subplot(8,4,i)\n",
    "    sns.kdeplot(t0[feature], bw=0.5,label=\"Class = 0\")\n",
    "    sns.kdeplot(t1[feature], bw=0.5,label=\"Class = 1\")\n",
    "    plt.xlabel(feature, fontsize=12)\n",
    "    locs, labels = plt.xticks()\n",
    "    plt.tick_params(axis='both', which='major', labelsize=12)\n",
    "plt.show();"
   ]
  },
  {
   "cell_type": "markdown",
   "id": "organized-means",
   "metadata": {
    "_uuid": "ae5a78aaff7b694c209af05a0d12cbfd131000b7",
    "papermill": {
     "duration": 0.144138,
     "end_time": "2021-04-01T11:08:01.966229",
     "exception": false,
     "start_time": "2021-04-01T11:08:01.822091",
     "status": "completed"
    },
    "tags": []
   },
   "source": [
    "For some of the features we can observe a good selectivity in terms of distribution for the two values of **Class**: **V4**, **V11** have clearly separated distributions for **Class** values 0 and 1, **V12**, **V14**, **V18** are partially separated, **V1**, **V2**, **V3**, **V10** have a quite distinct profile, whilst **V25**, **V26**, **V28** have similar profiles for the two values of **Class**.  \n",
    "\n",
    "In general, with just few exceptions (**Time** and **Amount**), the features distribution for legitimate transactions (values of **Class = 0**)  is centered around 0, sometime with a long queue at one of the extremities. In the same time, the fraudulent transactions (values of **Class = 1**) have a skewed (asymmetric) distribution."
   ]
  },
  {
   "cell_type": "markdown",
   "id": "arabic-polymer",
   "metadata": {
    "_uuid": "86636e53408b574ac5f7c84d73a5d8cff5c6e23f",
    "papermill": {
     "duration": 0.142379,
     "end_time": "2021-04-01T11:08:02.252343",
     "exception": false,
     "start_time": "2021-04-01T11:08:02.109964",
     "status": "completed"
    },
    "tags": []
   },
   "source": [
    "# <a id=\"6\">Predictive models</a>  \n",
    "\n"
   ]
  },
  {
   "cell_type": "markdown",
   "id": "previous-aluminum",
   "metadata": {
    "_uuid": "3de9724f89804b1e82c2b30c9767bbc0be6ac0dc",
    "papermill": {
     "duration": 0.14382,
     "end_time": "2021-04-01T11:08:02.539175",
     "exception": false,
     "start_time": "2021-04-01T11:08:02.395355",
     "status": "completed"
    },
    "tags": []
   },
   "source": [
    "### Define predictors and target values\n",
    "\n",
    "Let's define the predictor features and the target features. Categorical features, if any, are also defined. In our case, there are no categorical feature."
   ]
  },
  {
   "cell_type": "code",
   "execution_count": null,
   "id": "northern-founder",
   "metadata": {
    "_uuid": "05466e1862ba4f872dc05faa4b4dc84430660639",
    "execution": {
     "iopub.execute_input": "2021-04-01T11:08:02.840631Z",
     "iopub.status.busy": "2021-04-01T11:08:02.839627Z",
     "iopub.status.idle": "2021-04-01T11:08:02.842888Z",
     "shell.execute_reply": "2021-04-01T11:08:02.842260Z"
    },
    "papermill": {
     "duration": 0.157821,
     "end_time": "2021-04-01T11:08:02.843031",
     "exception": false,
     "start_time": "2021-04-01T11:08:02.685210",
     "status": "completed"
    },
    "tags": []
   },
   "outputs": [],
   "source": [
    "target = 'Class'\n",
    "predictors = ['Time', 'V1', 'V2', 'V3', 'V4', 'V5', 'V6', 'V7', 'V8', 'V9', 'V10',\\\n",
    "       'V11', 'V12', 'V13', 'V14', 'V15', 'V16', 'V17', 'V18', 'V19',\\\n",
    "       'V20', 'V21', 'V22', 'V23', 'V24', 'V25', 'V26', 'V27', 'V28',\\\n",
    "       'Amount']"
   ]
  },
  {
   "cell_type": "markdown",
   "id": "conditional-telescope",
   "metadata": {
    "_uuid": "574f8a166087bc8e95f27a9b152ffc4c1f83c4ce",
    "papermill": {
     "duration": 0.144447,
     "end_time": "2021-04-01T11:08:03.131197",
     "exception": false,
     "start_time": "2021-04-01T11:08:02.986750",
     "status": "completed"
    },
    "tags": []
   },
   "source": [
    "### Split data in train, test and validation set\n",
    "\n",
    "Let's define train, validation and test sets."
   ]
  },
  {
   "cell_type": "code",
   "execution_count": 4,
   "id": "emotional-discrimination",
   "metadata": {
    "_uuid": "c27f7166f9a0d96a0a7135df30ae5201d5a2bb3a",
    "execution": {
     "iopub.execute_input": "2021-04-01T11:08:03.424086Z",
     "iopub.status.busy": "2021-04-01T11:08:03.423387Z",
     "iopub.status.idle": "2021-04-01T11:08:03.597449Z",
     "shell.execute_reply": "2021-04-01T11:08:03.596683Z"
    },
    "papermill": {
     "duration": 0.323297,
     "end_time": "2021-04-01T11:08:03.597615",
     "exception": false,
     "start_time": "2021-04-01T11:08:03.274318",
     "status": "completed"
    },
    "tags": []
   },
   "outputs": [
    {
     "ename": "NameError",
     "evalue": "name 'data_df' is not defined",
     "output_type": "error",
     "traceback": [
      "\u001b[0;31m---------------------------------------------------------------------------\u001b[0m",
      "\u001b[0;31mNameError\u001b[0m                                 Traceback (most recent call last)",
      "Cell \u001b[0;32mIn[4], line 1\u001b[0m\n\u001b[0;32m----> 1\u001b[0m train_df, test_df \u001b[38;5;241m=\u001b[39m train_test_split(\u001b[43mdata_df\u001b[49m, test_size\u001b[38;5;241m=\u001b[39mTEST_SIZE, random_state\u001b[38;5;241m=\u001b[39mRANDOM_STATE, shuffle\u001b[38;5;241m=\u001b[39m\u001b[38;5;28;01mTrue\u001b[39;00m )\n\u001b[1;32m      2\u001b[0m train_df, valid_df \u001b[38;5;241m=\u001b[39m train_test_split(train_df, test_size\u001b[38;5;241m=\u001b[39mVALID_SIZE, random_state\u001b[38;5;241m=\u001b[39mRANDOM_STATE, shuffle\u001b[38;5;241m=\u001b[39m\u001b[38;5;28;01mTrue\u001b[39;00m )\n",
      "\u001b[0;31mNameError\u001b[0m: name 'data_df' is not defined"
     ]
    }
   ],
   "source": [
    "train_df, test_df = train_test_split(data_df, test_size=TEST_SIZE, random_state=RANDOM_STATE, shuffle=True )\n",
    "train_df, valid_df = train_test_split(train_df, test_size=VALID_SIZE, random_state=RANDOM_STATE, shuffle=True )"
   ]
  },
  {
   "cell_type": "markdown",
   "id": "protective-workshop",
   "metadata": {
    "_uuid": "477275d990dc322046f8d16a0c0d6b942acaac4b",
    "papermill": {
     "duration": 0.143778,
     "end_time": "2021-04-01T11:08:03.884996",
     "exception": false,
     "start_time": "2021-04-01T11:08:03.741218",
     "status": "completed"
    },
    "tags": []
   },
   "source": [
    "Let's start with a RandomForrestClassifier <a href='#8'>[3]</a>   model."
   ]
  },
  {
   "cell_type": "markdown",
   "id": "thermal-windsor",
   "metadata": {
    "_uuid": "046490acb18502c24c8197a4f2d1833f71ce7366",
    "papermill": {
     "duration": 0.143948,
     "end_time": "2021-04-01T11:08:04.173202",
     "exception": false,
     "start_time": "2021-04-01T11:08:04.029254",
     "status": "completed"
    },
    "tags": []
   },
   "source": [
    "## <a id=\"61\">RandomForestClassifier</a>\n",
    "\n",
    "\n",
    "### Define model parameters\n",
    "\n",
    "Let's set the parameters for the model."
   ]
  },
  {
   "cell_type": "markdown",
   "id": "legislative-retention",
   "metadata": {
    "_uuid": "13b7a22599e96474dbb275bc6658bcf87a92b774",
    "papermill": {
     "duration": 0.14282,
     "end_time": "2021-04-01T11:08:04.459558",
     "exception": false,
     "start_time": "2021-04-01T11:08:04.316738",
     "status": "completed"
    },
    "tags": []
   },
   "source": [
    "Let's run a model using the training set for training. Then, we will use the validation set for validation. \n",
    "\n",
    "We will use as validation criterion **GINI**, which formula is **GINI = 2 * (AUC) - 1**, where **AUC** is the **Receiver Operating Characteristic - Area Under Curve (ROC-AUC)** <a href='#8'>[4]</a>.  Number of estimators is set to **100** and number of parallel jobs is set to **4**.\n",
    "\n",
    "We start by initializing the RandomForestClassifier."
   ]
  },
  {
   "cell_type": "code",
   "execution_count": null,
   "id": "inclusive-dodge",
   "metadata": {
    "_uuid": "88cfc485083044018748f977b8e9cb13bf91a4a8",
    "execution": {
     "iopub.execute_input": "2021-04-01T11:08:04.753453Z",
     "iopub.status.busy": "2021-04-01T11:08:04.752760Z",
     "iopub.status.idle": "2021-04-01T11:08:04.755551Z",
     "shell.execute_reply": "2021-04-01T11:08:04.754947Z"
    },
    "papermill": {
     "duration": 0.152073,
     "end_time": "2021-04-01T11:08:04.755705",
     "exception": false,
     "start_time": "2021-04-01T11:08:04.603632",
     "status": "completed"
    },
    "tags": []
   },
   "outputs": [],
   "source": [
    "clf = RandomForestClassifier(n_jobs=NO_JOBS, \n",
    "                             random_state=RANDOM_STATE,\n",
    "                             criterion=RFC_METRIC,\n",
    "                             n_estimators=NUM_ESTIMATORS,\n",
    "                             verbose=False)"
   ]
  },
  {
   "cell_type": "markdown",
   "id": "bottom-scanner",
   "metadata": {
    "_uuid": "cfcf4074dfe96da0ac2489303ab3d7d8899f4175",
    "papermill": {
     "duration": 0.142782,
     "end_time": "2021-04-01T11:08:05.046167",
     "exception": false,
     "start_time": "2021-04-01T11:08:04.903385",
     "status": "completed"
    },
    "tags": []
   },
   "source": [
    "Let's train the **RandonForestClassifier** using the **train_df** data and **fit** function."
   ]
  },
  {
   "cell_type": "code",
   "execution_count": null,
   "id": "precious-luxembourg",
   "metadata": {
    "_uuid": "5042efd869d672392cb81437a03719d07ae684f1",
    "execution": {
     "iopub.execute_input": "2021-04-01T11:08:05.357815Z",
     "iopub.status.busy": "2021-04-01T11:08:05.357107Z",
     "iopub.status.idle": "2021-04-01T11:09:07.750763Z",
     "shell.execute_reply": "2021-04-01T11:09:07.751281Z"
    },
    "papermill": {
     "duration": 62.561142,
     "end_time": "2021-04-01T11:09:07.751468",
     "exception": false,
     "start_time": "2021-04-01T11:08:05.190326",
     "status": "completed"
    },
    "tags": []
   },
   "outputs": [],
   "source": [
    "clf.fit(train_df[predictors], train_df[target].values)"
   ]
  },
  {
   "cell_type": "markdown",
   "id": "varied-aspect",
   "metadata": {
    "_uuid": "fa2d70ec9136bdf46339fb3ad408f1179015a214",
    "papermill": {
     "duration": 0.144075,
     "end_time": "2021-04-01T11:09:08.038893",
     "exception": false,
     "start_time": "2021-04-01T11:09:07.894818",
     "status": "completed"
    },
    "tags": []
   },
   "source": [
    "Let's now predict the **target** values for the **valid_df** data, using **predict** function."
   ]
  },
  {
   "cell_type": "code",
   "execution_count": null,
   "id": "bearing-consciousness",
   "metadata": {
    "_uuid": "976e7e8d9adec49369b81c8a14e4e676e15709c9",
    "execution": {
     "iopub.execute_input": "2021-04-01T11:09:08.339084Z",
     "iopub.status.busy": "2021-04-01T11:09:08.338352Z",
     "iopub.status.idle": "2021-04-01T11:09:08.547377Z",
     "shell.execute_reply": "2021-04-01T11:09:08.546711Z"
    },
    "papermill": {
     "duration": 0.364742,
     "end_time": "2021-04-01T11:09:08.547523",
     "exception": false,
     "start_time": "2021-04-01T11:09:08.182781",
     "status": "completed"
    },
    "tags": []
   },
   "outputs": [],
   "source": [
    "preds = clf.predict(valid_df[predictors])"
   ]
  },
  {
   "cell_type": "markdown",
   "id": "suffering-demographic",
   "metadata": {
    "_uuid": "c2e26b3c0dc5498196784292bb7c71337291fd15",
    "papermill": {
     "duration": 0.142893,
     "end_time": "2021-04-01T11:09:08.834073",
     "exception": false,
     "start_time": "2021-04-01T11:09:08.691180",
     "status": "completed"
    },
    "tags": []
   },
   "source": [
    "Let's also visualize the features importance.\n",
    "\n",
    "### Features importance"
   ]
  },
  {
   "cell_type": "code",
   "execution_count": null,
   "id": "downtown-newcastle",
   "metadata": {
    "_uuid": "149ae586de1a7318f4063f2497d16b6457c5f478",
    "execution": {
     "iopub.execute_input": "2021-04-01T11:09:09.131878Z",
     "iopub.status.busy": "2021-04-01T11:09:09.131026Z",
     "iopub.status.idle": "2021-04-01T11:09:09.688988Z",
     "shell.execute_reply": "2021-04-01T11:09:09.688463Z"
    },
    "papermill": {
     "duration": 0.711951,
     "end_time": "2021-04-01T11:09:09.689127",
     "exception": false,
     "start_time": "2021-04-01T11:09:08.977176",
     "status": "completed"
    },
    "tags": []
   },
   "outputs": [],
   "source": [
    "tmp = pd.DataFrame({'Feature': predictors, 'Feature importance': clf.feature_importances_})\n",
    "tmp = tmp.sort_values(by='Feature importance',ascending=False)\n",
    "plt.figure(figsize = (7,4))\n",
    "plt.title('Features importance',fontsize=14)\n",
    "s = sns.barplot(x='Feature',y='Feature importance',data=tmp)\n",
    "s.set_xticklabels(s.get_xticklabels(),rotation=90)\n",
    "plt.show()   \n"
   ]
  },
  {
   "cell_type": "markdown",
   "id": "stopped-purpose",
   "metadata": {
    "_uuid": "588e3a996a7108a4f1e66cda53d225e6e236bfd6",
    "papermill": {
     "duration": 0.146838,
     "end_time": "2021-04-01T11:09:09.981910",
     "exception": false,
     "start_time": "2021-04-01T11:09:09.835072",
     "status": "completed"
    },
    "tags": []
   },
   "source": [
    "The most important features are **V17**, **V12**, **V14**, **V10**, **V11**, **V16**.\n",
    "\n",
    "\n",
    "### Confusion matrix\n",
    "\n",
    "Let's show a confusion matrix for the results we obtained. "
   ]
  },
  {
   "cell_type": "code",
   "execution_count": null,
   "id": "scheduled-conviction",
   "metadata": {
    "_uuid": "acdc37e14e96287ea2f96c4530bfde388d8af2f2",
    "execution": {
     "iopub.execute_input": "2021-04-01T11:09:10.280130Z",
     "iopub.status.busy": "2021-04-01T11:09:10.279040Z",
     "iopub.status.idle": "2021-04-01T11:09:10.483952Z",
     "shell.execute_reply": "2021-04-01T11:09:10.483410Z"
    },
    "papermill": {
     "duration": 0.357365,
     "end_time": "2021-04-01T11:09:10.484096",
     "exception": false,
     "start_time": "2021-04-01T11:09:10.126731",
     "status": "completed"
    },
    "tags": []
   },
   "outputs": [],
   "source": [
    "cm = pd.crosstab(valid_df[target].values, preds, rownames=['Actual'], colnames=['Predicted'])\n",
    "fig, (ax1) = plt.subplots(ncols=1, figsize=(5,5))\n",
    "sns.heatmap(cm, \n",
    "            xticklabels=['Not Fraud', 'Fraud'],\n",
    "            yticklabels=['Not Fraud', 'Fraud'],\n",
    "            annot=True,ax=ax1,\n",
    "            linewidths=.2,linecolor=\"Darkblue\", cmap=\"Blues\")\n",
    "plt.title('Confusion Matrix', fontsize=14)\n",
    "plt.show()"
   ]
  },
  {
   "cell_type": "markdown",
   "id": "comfortable-capital",
   "metadata": {
    "_uuid": "5795d41b1b0922db8121601d3b5e5702043efd50",
    "papermill": {
     "duration": 0.14684,
     "end_time": "2021-04-01T11:09:10.778695",
     "exception": false,
     "start_time": "2021-04-01T11:09:10.631855",
     "status": "completed"
    },
    "tags": []
   },
   "source": [
    "### Type I error and Type II error\n",
    "\n",
    "We need to clarify that confussion matrix are not a very good tool to represent the results in the case of largely unbalanced data, because we will actually need a different metrics that accounts in the same time for the **selectivity** and **specificity** of the method we are using, so that we minimize in the same time both **Type I errors** and **Type II errors**.\n",
    "\n",
    "\n",
    "**Null Hypothesis** (**H0**) - The transaction is not a fraud.  \n",
    "**Alternative Hypothesis** (**H1**) - The transaction is a fraud.  \n",
    "\n",
    "**Type I error** - You reject the null hypothesis when the null hypothesis is actually true.  \n",
    "**Type II error** - You fail to reject the null hypothesis when the the alternative hypothesis is true.  \n",
    "\n",
    "**Cost of Type I error** - You erroneously presume that the the transaction is a fraud, and a true transaction is rejected.  \n",
    "**Cost of Type II error** - You erroneously presume that the transaction is not a fraud and a ffraudulent transaction is accepted.  \n",
    "\n",
    "The following image explains what **Type I error** and **Type II error** are:    \n",
    "\n",
    "\n",
    "<img src=\"https://i.stack.imgur.com/x1GQ1.png\" width=\"600\"/>\n",
    "\n",
    "And this alternative image explains even better:  \n",
    "\n",
    "<img src=\"https://i2.wp.com/flowingdata.com/wp-content/uploads/2014/05/Type-I-and-II-errors1.jpg\" width=\"600\"/>\n",
    "\n",
    "\n",
    "\n",
    "Let's calculate the ROC-AUC score <a href='#8'>[4]</a>.\n",
    "\n",
    "### Area under curve"
   ]
  },
  {
   "cell_type": "code",
   "execution_count": null,
   "id": "intermediate-locking",
   "metadata": {
    "_uuid": "b67d0d3a695ccd69fba3b9ea576e7019d6091257",
    "execution": {
     "iopub.execute_input": "2021-04-01T11:09:11.076851Z",
     "iopub.status.busy": "2021-04-01T11:09:11.075869Z",
     "iopub.status.idle": "2021-04-01T11:09:11.089748Z",
     "shell.execute_reply": "2021-04-01T11:09:11.090221Z"
    },
    "papermill": {
     "duration": 0.1657,
     "end_time": "2021-04-01T11:09:11.090395",
     "exception": false,
     "start_time": "2021-04-01T11:09:10.924695",
     "status": "completed"
    },
    "tags": []
   },
   "outputs": [],
   "source": [
    "roc_auc_score(valid_df[target].values, preds)"
   ]
  },
  {
   "cell_type": "markdown",
   "id": "comfortable-eugene",
   "metadata": {
    "_uuid": "8b6d28b9ac4316545572d91b351f2c15bed671ba",
    "papermill": {
     "duration": 0.145888,
     "end_time": "2021-04-01T11:09:11.383839",
     "exception": false,
     "start_time": "2021-04-01T11:09:11.237951",
     "status": "completed"
    },
    "tags": []
   },
   "source": [
    "The **ROC-AUC** score obtained with **RandomForrestClassifier** is **0.85**.\n",
    "\n",
    "\n",
    "\n"
   ]
  },
  {
   "cell_type": "markdown",
   "id": "aggregate-generation",
   "metadata": {
    "_uuid": "8e1fb8633dc75828f659b6d4d6b3e61d87379cb7",
    "papermill": {
     "duration": 0.146746,
     "end_time": "2021-04-01T11:09:11.676947",
     "exception": false,
     "start_time": "2021-04-01T11:09:11.530201",
     "status": "completed"
    },
    "tags": []
   },
   "source": [
    "## <a id=\"62\">AdaBoostClassifier</a>\n",
    "\n",
    "\n",
    "AdaBoostClassifier stands for Adaptive Boosting Classifier <a href='#8'>[5]</a>.\n",
    "\n",
    "### Prepare the model\n",
    "\n",
    "Let's set the parameters for the model and initialize the model."
   ]
  },
  {
   "cell_type": "code",
   "execution_count": null,
   "id": "expressed-lottery",
   "metadata": {
    "_uuid": "17c5211f4f1f5f4bb406ab17d45abdc5b46c087f",
    "execution": {
     "iopub.execute_input": "2021-04-01T11:09:12.012911Z",
     "iopub.status.busy": "2021-04-01T11:09:12.012247Z",
     "iopub.status.idle": "2021-04-01T11:09:12.015755Z",
     "shell.execute_reply": "2021-04-01T11:09:12.015057Z"
    },
    "papermill": {
     "duration": 0.183917,
     "end_time": "2021-04-01T11:09:12.015923",
     "exception": false,
     "start_time": "2021-04-01T11:09:11.832006",
     "status": "completed"
    },
    "tags": []
   },
   "outputs": [],
   "source": [
    "clf = AdaBoostClassifier(random_state=RANDOM_STATE,\n",
    "                         algorithm='SAMME.R',\n",
    "                         learning_rate=0.8,\n",
    "                             n_estimators=NUM_ESTIMATORS)"
   ]
  },
  {
   "cell_type": "markdown",
   "id": "administrative-brick",
   "metadata": {
    "_uuid": "24263fd86b09447c3c413bf438cb262823daf338",
    "papermill": {
     "duration": 0.146095,
     "end_time": "2021-04-01T11:09:12.310703",
     "exception": false,
     "start_time": "2021-04-01T11:09:12.164608",
     "status": "completed"
    },
    "tags": []
   },
   "source": [
    "### Fit the model\n",
    "\n",
    "Let's fit the model."
   ]
  },
  {
   "cell_type": "code",
   "execution_count": null,
   "id": "processed-journalist",
   "metadata": {
    "_uuid": "1bdbe7616f0c2ab48932705e0a143c6a0a9b8049",
    "execution": {
     "iopub.execute_input": "2021-04-01T11:09:12.626785Z",
     "iopub.status.busy": "2021-04-01T11:09:12.626078Z",
     "iopub.status.idle": "2021-04-01T11:11:03.065987Z",
     "shell.execute_reply": "2021-04-01T11:11:03.066495Z"
    },
    "papermill": {
     "duration": 110.609263,
     "end_time": "2021-04-01T11:11:03.066732",
     "exception": false,
     "start_time": "2021-04-01T11:09:12.457469",
     "status": "completed"
    },
    "tags": []
   },
   "outputs": [],
   "source": [
    "clf.fit(train_df[predictors], train_df[target].values)"
   ]
  },
  {
   "cell_type": "markdown",
   "id": "gentle-wilderness",
   "metadata": {
    "_uuid": "0678f70c1bce4a0aca24de10b2c7130a702a3823",
    "papermill": {
     "duration": 0.148101,
     "end_time": "2021-04-01T11:11:03.363962",
     "exception": false,
     "start_time": "2021-04-01T11:11:03.215861",
     "status": "completed"
    },
    "tags": []
   },
   "source": [
    "### Predict the target values\n",
    "\n",
    "Let's now predict the **target** values for the **valid_df** data, using predict function."
   ]
  },
  {
   "cell_type": "code",
   "execution_count": null,
   "id": "brazilian-shell",
   "metadata": {
    "_uuid": "77ddd7b77838e7b83d6a24fa6d6449ae0567b2bf",
    "execution": {
     "iopub.execute_input": "2021-04-01T11:11:03.670627Z",
     "iopub.status.busy": "2021-04-01T11:11:03.669886Z",
     "iopub.status.idle": "2021-04-01T11:11:04.480242Z",
     "shell.execute_reply": "2021-04-01T11:11:04.479596Z"
    },
    "papermill": {
     "duration": 0.968893,
     "end_time": "2021-04-01T11:11:04.480394",
     "exception": false,
     "start_time": "2021-04-01T11:11:03.511501",
     "status": "completed"
    },
    "tags": []
   },
   "outputs": [],
   "source": [
    "preds = clf.predict(valid_df[predictors])"
   ]
  },
  {
   "cell_type": "markdown",
   "id": "increased-retreat",
   "metadata": {
    "_uuid": "4eea5368cc69c6b499aa5c527d33f13ede9e31c0",
    "papermill": {
     "duration": 0.147784,
     "end_time": "2021-04-01T11:11:04.777511",
     "exception": false,
     "start_time": "2021-04-01T11:11:04.629727",
     "status": "completed"
    },
    "tags": []
   },
   "source": [
    "### Features importance\n",
    "\n",
    "Let's see also the features importance."
   ]
  },
  {
   "cell_type": "code",
   "execution_count": null,
   "id": "seasonal-router",
   "metadata": {
    "_uuid": "2efbe2f5f9554fa96788ad1a619fe1943ee1e6df",
    "execution": {
     "iopub.execute_input": "2021-04-01T11:11:05.300905Z",
     "iopub.status.busy": "2021-04-01T11:11:05.298485Z",
     "iopub.status.idle": "2021-04-01T11:11:05.725835Z",
     "shell.execute_reply": "2021-04-01T11:11:05.725289Z"
    },
    "papermill": {
     "duration": 0.800501,
     "end_time": "2021-04-01T11:11:05.725981",
     "exception": false,
     "start_time": "2021-04-01T11:11:04.925480",
     "status": "completed"
    },
    "tags": []
   },
   "outputs": [],
   "source": [
    "tmp = pd.DataFrame({'Feature': predictors, 'Feature importance': clf.feature_importances_})\n",
    "tmp = tmp.sort_values(by='Feature importance',ascending=False)\n",
    "plt.figure(figsize = (7,4))\n",
    "plt.title('Features importance',fontsize=14)\n",
    "s = sns.barplot(x='Feature',y='Feature importance',data=tmp)\n",
    "s.set_xticklabels(s.get_xticklabels(),rotation=90)\n",
    "plt.show()   "
   ]
  },
  {
   "cell_type": "markdown",
   "id": "french-overhead",
   "metadata": {
    "_uuid": "4e4a72f967d3e0d1e7051668178eb497555a16ca",
    "papermill": {
     "duration": 0.151737,
     "end_time": "2021-04-01T11:11:06.027943",
     "exception": false,
     "start_time": "2021-04-01T11:11:05.876206",
     "status": "completed"
    },
    "tags": []
   },
   "source": [
    "### Confusion matrix\n",
    "\n",
    "Let's visualize the confusion matrix."
   ]
  },
  {
   "cell_type": "code",
   "execution_count": null,
   "id": "welsh-malawi",
   "metadata": {
    "_uuid": "0adcb109549fc61381f8dcf6fd894b83f3a69809",
    "execution": {
     "iopub.execute_input": "2021-04-01T11:11:06.382519Z",
     "iopub.status.busy": "2021-04-01T11:11:06.381477Z",
     "iopub.status.idle": "2021-04-01T11:11:06.585719Z",
     "shell.execute_reply": "2021-04-01T11:11:06.585182Z"
    },
    "papermill": {
     "duration": 0.362985,
     "end_time": "2021-04-01T11:11:06.585876",
     "exception": false,
     "start_time": "2021-04-01T11:11:06.222891",
     "status": "completed"
    },
    "tags": []
   },
   "outputs": [],
   "source": [
    "cm = pd.crosstab(valid_df[target].values, preds, rownames=['Actual'], colnames=['Predicted'])\n",
    "fig, (ax1) = plt.subplots(ncols=1, figsize=(5,5))\n",
    "sns.heatmap(cm, \n",
    "            xticklabels=['Not Fraud', 'Fraud'],\n",
    "            yticklabels=['Not Fraud', 'Fraud'],\n",
    "            annot=True,ax=ax1,\n",
    "            linewidths=.2,linecolor=\"Darkblue\", cmap=\"Blues\")\n",
    "plt.title('Confusion Matrix', fontsize=14)\n",
    "plt.show()"
   ]
  },
  {
   "cell_type": "markdown",
   "id": "consistent-innocent",
   "metadata": {
    "_uuid": "29a1e7c5d5b056fc59ef0c08f8a1091ee2f6fdff",
    "papermill": {
     "duration": 0.149496,
     "end_time": "2021-04-01T11:11:06.886159",
     "exception": false,
     "start_time": "2021-04-01T11:11:06.736663",
     "status": "completed"
    },
    "tags": []
   },
   "source": [
    "Let's calculate also the ROC-AUC.\n",
    "\n",
    "\n",
    "### Area under curve"
   ]
  },
  {
   "cell_type": "code",
   "execution_count": null,
   "id": "killing-period",
   "metadata": {
    "_uuid": "f95a9ced1ff6ed2257f1e21c604a2ffcf769feed",
    "execution": {
     "iopub.execute_input": "2021-04-01T11:11:07.192168Z",
     "iopub.status.busy": "2021-04-01T11:11:07.191229Z",
     "iopub.status.idle": "2021-04-01T11:11:07.205008Z",
     "shell.execute_reply": "2021-04-01T11:11:07.204412Z"
    },
    "papermill": {
     "duration": 0.169052,
     "end_time": "2021-04-01T11:11:07.205150",
     "exception": false,
     "start_time": "2021-04-01T11:11:07.036098",
     "status": "completed"
    },
    "tags": []
   },
   "outputs": [],
   "source": [
    "roc_auc_score(valid_df[target].values, preds)"
   ]
  },
  {
   "cell_type": "markdown",
   "id": "human-roads",
   "metadata": {
    "_uuid": "525a893a4f511b3fd8909f3655c9a5c20afe585c",
    "papermill": {
     "duration": 0.150175,
     "end_time": "2021-04-01T11:11:07.505187",
     "exception": false,
     "start_time": "2021-04-01T11:11:07.355012",
     "status": "completed"
    },
    "tags": []
   },
   "source": [
    "The ROC-AUC score obtained with AdaBoostClassifier is **0.83**."
   ]
  },
  {
   "cell_type": "markdown",
   "id": "golden-remedy",
   "metadata": {
    "_uuid": "719e7673307eb938cbd22422c11165e6433da036",
    "papermill": {
     "duration": 0.149942,
     "end_time": "2021-04-01T11:11:07.806008",
     "exception": false,
     "start_time": "2021-04-01T11:11:07.656066",
     "status": "completed"
    },
    "tags": []
   },
   "source": [
    "## <a id=\"63\">CatBoostClassifier</a>\n",
    "\n",
    "\n",
    "CatBoostClassifier is a gradient boosting for decision trees algorithm with support for handling categorical data <a href='#8'>[6]</a>.\n",
    "\n",
    "### Prepare the model\n",
    "\n",
    "Let's set the parameters for the model and initialize the model."
   ]
  },
  {
   "cell_type": "code",
   "execution_count": null,
   "id": "bottom-smith",
   "metadata": {
    "_uuid": "5a663cefd0b35e44bec74dda1e3ece37f430bc69",
    "execution": {
     "iopub.execute_input": "2021-04-01T11:11:08.121696Z",
     "iopub.status.busy": "2021-04-01T11:11:08.120943Z",
     "iopub.status.idle": "2021-04-01T11:11:08.124726Z",
     "shell.execute_reply": "2021-04-01T11:11:08.123837Z"
    },
    "papermill": {
     "duration": 0.166274,
     "end_time": "2021-04-01T11:11:08.124896",
     "exception": false,
     "start_time": "2021-04-01T11:11:07.958622",
     "status": "completed"
    },
    "tags": []
   },
   "outputs": [],
   "source": [
    "clf = CatBoostClassifier(iterations=500,\n",
    "                             learning_rate=0.02,\n",
    "                             depth=12,\n",
    "                             eval_metric='AUC',\n",
    "                             random_seed = RANDOM_STATE,\n",
    "                             bagging_temperature = 0.2,\n",
    "                             od_type='Iter',\n",
    "                             metric_period = VERBOSE_EVAL,\n",
    "                             od_wait=100)"
   ]
  },
  {
   "cell_type": "code",
   "execution_count": null,
   "id": "systematic-commander",
   "metadata": {
    "_uuid": "f571a8ac45728504d805e1b4b12e3e672a01d381",
    "execution": {
     "iopub.execute_input": "2021-04-01T11:11:08.431658Z",
     "iopub.status.busy": "2021-04-01T11:11:08.431005Z",
     "iopub.status.idle": "2021-04-01T11:14:09.794763Z",
     "shell.execute_reply": "2021-04-01T11:14:09.794126Z"
    },
    "papermill": {
     "duration": 181.516508,
     "end_time": "2021-04-01T11:14:09.795030",
     "exception": false,
     "start_time": "2021-04-01T11:11:08.278522",
     "status": "completed"
    },
    "tags": []
   },
   "outputs": [],
   "source": [
    "clf.fit(train_df[predictors], train_df[target].values,verbose=True)"
   ]
  },
  {
   "cell_type": "markdown",
   "id": "large-cotton",
   "metadata": {
    "_uuid": "7fb5dfcb26fbdffb6e4526cf24bbd9a20ea2b0cf",
    "papermill": {
     "duration": 0.155276,
     "end_time": "2021-04-01T11:14:10.106583",
     "exception": false,
     "start_time": "2021-04-01T11:14:09.951307",
     "status": "completed"
    },
    "tags": []
   },
   "source": [
    "### Predict the target values\n",
    "\n",
    "Let's now predict the **target** values for the **val_df** data, using predict function."
   ]
  },
  {
   "cell_type": "code",
   "execution_count": null,
   "id": "uniform-constant",
   "metadata": {
    "_uuid": "5b1c1fbaf25f4d16c6fc3ddcf3a25a16181fea3b",
    "execution": {
     "iopub.execute_input": "2021-04-01T11:14:10.431747Z",
     "iopub.status.busy": "2021-04-01T11:14:10.430745Z",
     "iopub.status.idle": "2021-04-01T11:14:10.520660Z",
     "shell.execute_reply": "2021-04-01T11:14:10.520017Z"
    },
    "papermill": {
     "duration": 0.259708,
     "end_time": "2021-04-01T11:14:10.520821",
     "exception": false,
     "start_time": "2021-04-01T11:14:10.261113",
     "status": "completed"
    },
    "tags": []
   },
   "outputs": [],
   "source": [
    "preds = clf.predict(valid_df[predictors])"
   ]
  },
  {
   "cell_type": "markdown",
   "id": "hired-diabetes",
   "metadata": {
    "_uuid": "f4d5e197719c2caa46451c804d616e8fd6a0d6fb",
    "papermill": {
     "duration": 0.156183,
     "end_time": "2021-04-01T11:14:10.832111",
     "exception": false,
     "start_time": "2021-04-01T11:14:10.675928",
     "status": "completed"
    },
    "tags": []
   },
   "source": [
    "### Features importance\n",
    "\n",
    "Let's see also the features importance."
   ]
  },
  {
   "cell_type": "code",
   "execution_count": null,
   "id": "stupid-imagination",
   "metadata": {
    "_uuid": "afeee803fd3273651754c68619a00250e1cd524d",
    "execution": {
     "iopub.execute_input": "2021-04-01T11:14:11.175001Z",
     "iopub.status.busy": "2021-04-01T11:14:11.169439Z",
     "iopub.status.idle": "2021-04-01T11:14:11.615432Z",
     "shell.execute_reply": "2021-04-01T11:14:11.615915Z"
    },
    "papermill": {
     "duration": 0.626016,
     "end_time": "2021-04-01T11:14:11.616090",
     "exception": false,
     "start_time": "2021-04-01T11:14:10.990074",
     "status": "completed"
    },
    "tags": []
   },
   "outputs": [],
   "source": [
    "tmp = pd.DataFrame({'Feature': predictors, 'Feature importance': clf.feature_importances_})\n",
    "tmp = tmp.sort_values(by='Feature importance',ascending=False)\n",
    "plt.figure(figsize = (7,4))\n",
    "plt.title('Features importance',fontsize=14)\n",
    "s = sns.barplot(x='Feature',y='Feature importance',data=tmp)\n",
    "s.set_xticklabels(s.get_xticklabels(),rotation=90)\n",
    "plt.show()   "
   ]
  },
  {
   "cell_type": "markdown",
   "id": "ruled-health",
   "metadata": {
    "_uuid": "7500dac8e4d829b2651b027dac78ea886ec95ca6",
    "papermill": {
     "duration": 0.154418,
     "end_time": "2021-04-01T11:14:11.926763",
     "exception": false,
     "start_time": "2021-04-01T11:14:11.772345",
     "status": "completed"
    },
    "tags": []
   },
   "source": [
    "### Confusion matrix\n",
    "\n",
    "Let's visualize the confusion matrix."
   ]
  },
  {
   "cell_type": "code",
   "execution_count": null,
   "id": "usual-nelson",
   "metadata": {
    "_uuid": "39ac2f75b7317e00a688d4d6872a1671e9d2da21",
    "execution": {
     "iopub.execute_input": "2021-04-01T11:14:12.251510Z",
     "iopub.status.busy": "2021-04-01T11:14:12.250460Z",
     "iopub.status.idle": "2021-04-01T11:14:12.452594Z",
     "shell.execute_reply": "2021-04-01T11:14:12.452056Z"
    },
    "papermill": {
     "duration": 0.368127,
     "end_time": "2021-04-01T11:14:12.452741",
     "exception": false,
     "start_time": "2021-04-01T11:14:12.084614",
     "status": "completed"
    },
    "tags": []
   },
   "outputs": [],
   "source": [
    "cm = pd.crosstab(valid_df[target].values, preds, rownames=['Actual'], colnames=['Predicted'])\n",
    "fig, (ax1) = plt.subplots(ncols=1, figsize=(5,5))\n",
    "sns.heatmap(cm, \n",
    "            xticklabels=['Not Fraud', 'Fraud'],\n",
    "            yticklabels=['Not Fraud', 'Fraud'],\n",
    "            annot=True,ax=ax1,\n",
    "            linewidths=.2,linecolor=\"Darkblue\", cmap=\"Blues\")\n",
    "plt.title('Confusion Matrix', fontsize=14)\n",
    "plt.show()"
   ]
  },
  {
   "cell_type": "markdown",
   "id": "irish-beatles",
   "metadata": {
    "_uuid": "76f9e2cec59953df1c4a5fc83333443484929dac",
    "papermill": {
     "duration": 0.161165,
     "end_time": "2021-04-01T11:14:12.774213",
     "exception": false,
     "start_time": "2021-04-01T11:14:12.613048",
     "status": "completed"
    },
    "tags": []
   },
   "source": [
    "Let's calculate also the ROC-AUC.\n",
    "\n",
    "\n",
    "### Area under curve"
   ]
  },
  {
   "cell_type": "code",
   "execution_count": null,
   "id": "eight-consensus",
   "metadata": {
    "_uuid": "701ff6a7cd11cd6556e50c9c073cbddf80555306",
    "execution": {
     "iopub.execute_input": "2021-04-01T11:14:13.093988Z",
     "iopub.status.busy": "2021-04-01T11:14:13.092966Z",
     "iopub.status.idle": "2021-04-01T11:14:13.107522Z",
     "shell.execute_reply": "2021-04-01T11:14:13.107012Z"
    },
    "papermill": {
     "duration": 0.176057,
     "end_time": "2021-04-01T11:14:13.107687",
     "exception": false,
     "start_time": "2021-04-01T11:14:12.931630",
     "status": "completed"
    },
    "tags": []
   },
   "outputs": [],
   "source": [
    "roc_auc_score(valid_df[target].values, preds)"
   ]
  },
  {
   "cell_type": "markdown",
   "id": "blond-potato",
   "metadata": {
    "_uuid": "18a05c1761c673b0838dd4d4a71b2315616737e2",
    "papermill": {
     "duration": 0.156586,
     "end_time": "2021-04-01T11:14:13.422418",
     "exception": false,
     "start_time": "2021-04-01T11:14:13.265832",
     "status": "completed"
    },
    "tags": []
   },
   "source": [
    "The ROC-AUC score obtained with CatBoostClassifier is **0.86**."
   ]
  },
  {
   "cell_type": "markdown",
   "id": "adverse-catalyst",
   "metadata": {
    "_uuid": "39c96e378c957d251f4d7e62a4def9e71aabfd81",
    "papermill": {
     "duration": 0.15686,
     "end_time": "2021-04-01T11:14:13.735748",
     "exception": false,
     "start_time": "2021-04-01T11:14:13.578888",
     "status": "completed"
    },
    "tags": []
   },
   "source": [
    "## <a id=\"63\">XGBoost</a>"
   ]
  },
  {
   "cell_type": "markdown",
   "id": "continental-enterprise",
   "metadata": {
    "_uuid": "eaad6d74ea593d3a71bedf4252ba0bb5c1617159",
    "papermill": {
     "duration": 0.157015,
     "end_time": "2021-04-01T11:14:14.049381",
     "exception": false,
     "start_time": "2021-04-01T11:14:13.892366",
     "status": "completed"
    },
    "tags": []
   },
   "source": [
    "XGBoost is a gradient boosting algorithm <a href='#8'>[7]</a>.\n",
    "\n",
    "Let's prepare the model."
   ]
  },
  {
   "cell_type": "markdown",
   "id": "solid-singing",
   "metadata": {
    "_uuid": "fa57161424d5de2cb482848c6104b8d51901fa02",
    "papermill": {
     "duration": 0.15683,
     "end_time": "2021-04-01T11:14:14.364656",
     "exception": false,
     "start_time": "2021-04-01T11:14:14.207826",
     "status": "completed"
    },
    "tags": []
   },
   "source": [
    "### Prepare the model\n",
    "\n",
    "We initialize the DMatrix objects for training and validation, starting from the datasets. We also set some of the parameters used for the model tuning."
   ]
  },
  {
   "cell_type": "code",
   "execution_count": 6,
   "id": "representative-congo",
   "metadata": {
    "_uuid": "eeb48986db87e26413d3a5efa286d18e82c0efc6",
    "execution": {
     "iopub.execute_input": "2021-04-01T11:14:14.723743Z",
     "iopub.status.busy": "2021-04-01T11:14:14.723072Z",
     "iopub.status.idle": "2021-04-01T11:14:14.878071Z",
     "shell.execute_reply": "2021-04-01T11:14:14.878591Z"
    },
    "papermill": {
     "duration": 0.357677,
     "end_time": "2021-04-01T11:14:14.878820",
     "exception": false,
     "start_time": "2021-04-01T11:14:14.521143",
     "status": "completed"
    },
    "tags": []
   },
   "outputs": [
    {
     "ename": "NameError",
     "evalue": "name 'xgb' is not defined",
     "output_type": "error",
     "traceback": [
      "\u001b[0;31m---------------------------------------------------------------------------\u001b[0m",
      "\u001b[0;31mNameError\u001b[0m                                 Traceback (most recent call last)",
      "Cell \u001b[0;32mIn[6], line 2\u001b[0m\n\u001b[1;32m      1\u001b[0m \u001b[38;5;66;03m# Prepare the train and valid datasets\u001b[39;00m\n\u001b[0;32m----> 2\u001b[0m dtrain \u001b[38;5;241m=\u001b[39m \u001b[43mxgb\u001b[49m\u001b[38;5;241m.\u001b[39mDMatrix(train_df[predictors], train_df[target]\u001b[38;5;241m.\u001b[39mvalues)\n\u001b[1;32m      3\u001b[0m dvalid \u001b[38;5;241m=\u001b[39m xgb\u001b[38;5;241m.\u001b[39mDMatrix(valid_df[predictors], valid_df[target]\u001b[38;5;241m.\u001b[39mvalues)\n\u001b[1;32m      4\u001b[0m dtest \u001b[38;5;241m=\u001b[39m xgb\u001b[38;5;241m.\u001b[39mDMatrix(test_df[predictors], test_df[target]\u001b[38;5;241m.\u001b[39mvalues)\n",
      "\u001b[0;31mNameError\u001b[0m: name 'xgb' is not defined"
     ]
    }
   ],
   "source": [
    "# Prepare the train and valid datasets\n",
    "dtrain = xgb.DMatrix(train_df[predictors], train_df[target].values)\n",
    "dvalid = xgb.DMatrix(valid_df[predictors], valid_df[target].values)\n",
    "dtest = xgb.DMatrix(test_df[predictors], test_df[target].values)\n",
    "\n",
    "#What to monitor (in this case, **train** and **valid**)\n",
    "watchlist = [(dtrain, 'train'), (dvalid, 'valid')]\n",
    "\n",
    "# Set xgboost parameters\n",
    "params = {}\n",
    "params['objective'] = 'binary:logistic'\n",
    "params['eta'] = 0.039\n",
    "params['silent'] = True\n",
    "params['max_depth'] = 2\n",
    "params['subsample'] = 0.8\n",
    "params['colsample_bytree'] = 0.9\n",
    "params['eval_metric'] = 'auc'\n",
    "params['random_state'] = RANDOM_STATE"
   ]
  },
  {
   "cell_type": "markdown",
   "id": "straight-asian",
   "metadata": {
    "_uuid": "9a6981b4ce504d3e836e19dd262c64b4b03e591a",
    "papermill": {
     "duration": 0.159936,
     "end_time": "2021-04-01T11:14:15.201359",
     "exception": false,
     "start_time": "2021-04-01T11:14:15.041423",
     "status": "completed"
    },
    "tags": []
   },
   "source": [
    "### Train the model\n",
    "\n",
    "Let's train the model. "
   ]
  },
  {
   "cell_type": "code",
   "execution_count": null,
   "id": "inclusive-advisory",
   "metadata": {
    "_uuid": "5d066b1791e0d2463897b8a0c797cfbc38afa846",
    "execution": {
     "iopub.execute_input": "2021-04-01T11:14:15.523547Z",
     "iopub.status.busy": "2021-04-01T11:14:15.522868Z",
     "iopub.status.idle": "2021-04-01T11:15:28.394972Z",
     "shell.execute_reply": "2021-04-01T11:15:28.394369Z"
    },
    "papermill": {
     "duration": 73.034114,
     "end_time": "2021-04-01T11:15:28.395127",
     "exception": false,
     "start_time": "2021-04-01T11:14:15.361013",
     "status": "completed"
    },
    "tags": []
   },
   "outputs": [],
   "source": [
    "model = xgb.train(params, \n",
    "                dtrain, \n",
    "                MAX_ROUNDS, \n",
    "                watchlist, \n",
    "                early_stopping_rounds=EARLY_STOP, \n",
    "                maximize=True, \n",
    "                verbose_eval=VERBOSE_EVAL)"
   ]
  },
  {
   "cell_type": "markdown",
   "id": "foster-recognition",
   "metadata": {
    "_uuid": "cb42148758c28251be27ce20828864b1e4df1b59",
    "papermill": {
     "duration": 0.160336,
     "end_time": "2021-04-01T11:15:28.715923",
     "exception": false,
     "start_time": "2021-04-01T11:15:28.555587",
     "status": "completed"
    },
    "tags": []
   },
   "source": [
    "The best validation score (ROC-AUC) was **0.984**, for round **241**."
   ]
  },
  {
   "cell_type": "markdown",
   "id": "phantom-attempt",
   "metadata": {
    "_uuid": "ca7375264c18646c11c399fdb1aa5dfaece44bd5",
    "papermill": {
     "duration": 0.161471,
     "end_time": "2021-04-01T11:15:29.038644",
     "exception": false,
     "start_time": "2021-04-01T11:15:28.877173",
     "status": "completed"
    },
    "tags": []
   },
   "source": [
    "### Plot variable importance"
   ]
  },
  {
   "cell_type": "code",
   "execution_count": null,
   "id": "african-nickname",
   "metadata": {
    "_uuid": "2592eeaa312ba24ead2fea4cbd7b71d4537f4a75",
    "execution": {
     "iopub.execute_input": "2021-04-01T11:15:29.392335Z",
     "iopub.status.busy": "2021-04-01T11:15:29.391678Z",
     "iopub.status.idle": "2021-04-01T11:15:29.856490Z",
     "shell.execute_reply": "2021-04-01T11:15:29.855863Z"
    },
    "papermill": {
     "duration": 0.656057,
     "end_time": "2021-04-01T11:15:29.856664",
     "exception": false,
     "start_time": "2021-04-01T11:15:29.200607",
     "status": "completed"
    },
    "tags": []
   },
   "outputs": [],
   "source": [
    "fig, (ax) = plt.subplots(ncols=1, figsize=(8,5))\n",
    "xgb.plot_importance(model, height=0.8, title=\"Features importance (XGBoost)\", ax=ax, color=\"green\") \n",
    "plt.show()"
   ]
  },
  {
   "cell_type": "markdown",
   "id": "lucky-stomach",
   "metadata": {
    "_uuid": "eb583b48bd0ffd38cddf4ea1eb41df20b3f5d566",
    "papermill": {
     "duration": 0.162875,
     "end_time": "2021-04-01T11:15:30.182747",
     "exception": false,
     "start_time": "2021-04-01T11:15:30.019872",
     "status": "completed"
    },
    "tags": []
   },
   "source": [
    "### Predict test set\n",
    "\n",
    "\n",
    "We used the train and validation sets for training and validation. We will use the trained model now to predict the target value for the test set."
   ]
  },
  {
   "cell_type": "code",
   "execution_count": null,
   "id": "sitting-start",
   "metadata": {
    "_uuid": "99b130c043241ecc0ea5c64df1a92940d6c458a8",
    "execution": {
     "iopub.execute_input": "2021-04-01T11:15:30.513620Z",
     "iopub.status.busy": "2021-04-01T11:15:30.512751Z",
     "iopub.status.idle": "2021-04-01T11:15:30.565962Z",
     "shell.execute_reply": "2021-04-01T11:15:30.566961Z"
    },
    "papermill": {
     "duration": 0.221201,
     "end_time": "2021-04-01T11:15:30.567160",
     "exception": false,
     "start_time": "2021-04-01T11:15:30.345959",
     "status": "completed"
    },
    "tags": []
   },
   "outputs": [],
   "source": [
    "preds = model.predict(dtest)"
   ]
  },
  {
   "cell_type": "markdown",
   "id": "deadly-claim",
   "metadata": {
    "_uuid": "1eca8c0e71d679a8e2743ce20cd66934f101a0ac",
    "papermill": {
     "duration": 0.16184,
     "end_time": "2021-04-01T11:15:30.892251",
     "exception": false,
     "start_time": "2021-04-01T11:15:30.730411",
     "status": "completed"
    },
    "tags": []
   },
   "source": [
    "### Area under curve\n",
    "\n",
    "Let's calculate ROC-AUC."
   ]
  },
  {
   "cell_type": "code",
   "execution_count": null,
   "id": "greek-italian",
   "metadata": {
    "_uuid": "bb7ddd8e0f7fc14556495aaab62065e9cad7a2d3",
    "execution": {
     "iopub.execute_input": "2021-04-01T11:15:31.220698Z",
     "iopub.status.busy": "2021-04-01T11:15:31.220048Z",
     "iopub.status.idle": "2021-04-01T11:15:31.241522Z",
     "shell.execute_reply": "2021-04-01T11:15:31.241020Z"
    },
    "papermill": {
     "duration": 0.188445,
     "end_time": "2021-04-01T11:15:31.241679",
     "exception": false,
     "start_time": "2021-04-01T11:15:31.053234",
     "status": "completed"
    },
    "tags": []
   },
   "outputs": [],
   "source": [
    "roc_auc_score(test_df[target].values, preds)"
   ]
  },
  {
   "cell_type": "markdown",
   "id": "sought-international",
   "metadata": {
    "_uuid": "61683181c29747a17162ad3d0ef871949c22a4c5",
    "papermill": {
     "duration": 0.161209,
     "end_time": "2021-04-01T11:15:31.564770",
     "exception": false,
     "start_time": "2021-04-01T11:15:31.403561",
     "status": "completed"
    },
    "tags": []
   },
   "source": [
    "The AUC score for the prediction of fresh data (test set) is **0.974**."
   ]
  },
  {
   "cell_type": "markdown",
   "id": "cathedral-portal",
   "metadata": {
    "_uuid": "a49d1d15412ebde99ce816eef35dbcde02549388",
    "papermill": {
     "duration": 0.163638,
     "end_time": "2021-04-01T11:15:31.889780",
     "exception": false,
     "start_time": "2021-04-01T11:15:31.726142",
     "status": "completed"
    },
    "tags": []
   },
   "source": [
    "## <a id=\"64\">LightGBM</a>\n",
    "\n",
    "\n",
    "Let's continue with another gradient boosting algorithm, LightGBM <a href='#8'>[8]</a> <a href='#8'>[9]</a>.\n",
    "\n",
    "\n",
    "### Define model parameters\n",
    "\n",
    "Let's set the parameters for the model. We will use these parameters only for the first lgb model."
   ]
  },
  {
   "cell_type": "code",
   "execution_count": null,
   "id": "matched-apple",
   "metadata": {
    "_uuid": "17cb571126b6a176a016e7e962441a1fbefc4e1c",
    "execution": {
     "iopub.execute_input": "2021-04-01T11:15:32.223345Z",
     "iopub.status.busy": "2021-04-01T11:15:32.222409Z",
     "iopub.status.idle": "2021-04-01T11:15:32.225905Z",
     "shell.execute_reply": "2021-04-01T11:15:32.225230Z"
    },
    "papermill": {
     "duration": 0.172859,
     "end_time": "2021-04-01T11:15:32.226085",
     "exception": false,
     "start_time": "2021-04-01T11:15:32.053226",
     "status": "completed"
    },
    "tags": []
   },
   "outputs": [],
   "source": [
    "params = {\n",
    "          'boosting_type': 'gbdt',\n",
    "          'objective': 'binary',\n",
    "          'metric':'auc',\n",
    "          'learning_rate': 0.05,\n",
    "          'num_leaves': 7,  # we should let it be smaller than 2^(max_depth)\n",
    "          'max_depth': 4,  # -1 means no limit\n",
    "          'min_child_samples': 100,  # Minimum number of data need in a child(min_data_in_leaf)\n",
    "          'max_bin': 100,  # Number of bucketed bin for feature values\n",
    "          'subsample': 0.9,  # Subsample ratio of the training instance.\n",
    "          'subsample_freq': 1,  # frequence of subsample, <=0 means no enable\n",
    "          'colsample_bytree': 0.7,  # Subsample ratio of columns when constructing each tree.\n",
    "          'min_child_weight': 0,  # Minimum sum of instance weight(hessian) needed in a child(leaf)\n",
    "          'min_split_gain': 0,  # lambda_l1, lambda_l2 and min_gain_to_split to regularization\n",
    "          'nthread': 8,\n",
    "          'verbose': 0,\n",
    "          'scale_pos_weight':150, # because training data is extremely unbalanced \n",
    "         }"
   ]
  },
  {
   "cell_type": "markdown",
   "id": "precious-planet",
   "metadata": {
    "_uuid": "0f28ad6e71f428ab8686ef5e12fcf18875cc34ba",
    "papermill": {
     "duration": 0.161436,
     "end_time": "2021-04-01T11:15:32.549415",
     "exception": false,
     "start_time": "2021-04-01T11:15:32.387979",
     "status": "completed"
    },
    "tags": []
   },
   "source": [
    "### Prepare the model\n",
    "\n",
    "Let's prepare the model, creating the **Dataset**s data structures from the train and validation sets."
   ]
  },
  {
   "cell_type": "code",
   "execution_count": null,
   "id": "headed-jaguar",
   "metadata": {
    "_uuid": "182aad358dc1359111ff8704d25b7449c0fa5901",
    "execution": {
     "iopub.execute_input": "2021-04-01T11:15:32.904404Z",
     "iopub.status.busy": "2021-04-01T11:15:32.903426Z",
     "iopub.status.idle": "2021-04-01T11:15:32.906776Z",
     "shell.execute_reply": "2021-04-01T11:15:32.906230Z"
    },
    "papermill": {
     "duration": 0.195877,
     "end_time": "2021-04-01T11:15:32.906926",
     "exception": false,
     "start_time": "2021-04-01T11:15:32.711049",
     "status": "completed"
    },
    "tags": []
   },
   "outputs": [],
   "source": [
    "dtrain = lgb.Dataset(train_df[predictors].values, \n",
    "                     label=train_df[target].values,\n",
    "                     feature_name=predictors)\n",
    "\n",
    "dvalid = lgb.Dataset(valid_df[predictors].values,\n",
    "                     label=valid_df[target].values,\n",
    "                     feature_name=predictors)"
   ]
  },
  {
   "cell_type": "markdown",
   "id": "traditional-operations",
   "metadata": {
    "_uuid": "589c9f7f08f158fc2fbb77ef0a5839a90fda82de",
    "papermill": {
     "duration": 0.161822,
     "end_time": "2021-04-01T11:15:33.230761",
     "exception": false,
     "start_time": "2021-04-01T11:15:33.068939",
     "status": "completed"
    },
    "tags": []
   },
   "source": [
    "### Run the model\n",
    "\n",
    "Let's run the model, using the **train** function."
   ]
  },
  {
   "cell_type": "code",
   "execution_count": null,
   "id": "acting-gilbert",
   "metadata": {
    "_uuid": "e0590673dd712c4070133451ef8b9f8f4bf07712",
    "execution": {
     "iopub.execute_input": "2021-04-01T11:15:33.561583Z",
     "iopub.status.busy": "2021-04-01T11:15:33.560374Z",
     "iopub.status.idle": "2021-04-01T11:15:38.376543Z",
     "shell.execute_reply": "2021-04-01T11:15:38.376032Z"
    },
    "papermill": {
     "duration": 4.98402,
     "end_time": "2021-04-01T11:15:38.376685",
     "exception": false,
     "start_time": "2021-04-01T11:15:33.392665",
     "status": "completed"
    },
    "tags": []
   },
   "outputs": [],
   "source": [
    "evals_results = {}\n",
    "\n",
    "model = lgb.train(params, \n",
    "                  dtrain, \n",
    "                  valid_sets=[dtrain, dvalid], \n",
    "                  valid_names=['train','valid'], \n",
    "                  evals_result=evals_results, \n",
    "                  num_boost_round=MAX_ROUNDS,\n",
    "                  early_stopping_rounds=2*EARLY_STOP,\n",
    "                  verbose_eval=VERBOSE_EVAL, \n",
    "                  feval=None)\n"
   ]
  },
  {
   "cell_type": "markdown",
   "id": "stainless-salvation",
   "metadata": {
    "_uuid": "f90fd70986e7e55da136386d249c8dd9f7bcfba9",
    "papermill": {
     "duration": 0.164135,
     "end_time": "2021-04-01T11:15:38.704899",
     "exception": false,
     "start_time": "2021-04-01T11:15:38.540764",
     "status": "completed"
    },
    "tags": []
   },
   "source": [
    "Best validation score  was obtained for round **85**, for which **AUC ~= 0.974**.\n",
    "\n",
    "Let's plot variable importance."
   ]
  },
  {
   "cell_type": "code",
   "execution_count": null,
   "id": "practical-switch",
   "metadata": {
    "_uuid": "cc63244fa4d424f2680d60722c6ce3343f63f162",
    "execution": {
     "iopub.execute_input": "2021-04-01T11:15:39.073252Z",
     "iopub.status.busy": "2021-04-01T11:15:39.072608Z",
     "iopub.status.idle": "2021-04-01T11:15:39.494198Z",
     "shell.execute_reply": "2021-04-01T11:15:39.493556Z"
    },
    "papermill": {
     "duration": 0.622646,
     "end_time": "2021-04-01T11:15:39.494338",
     "exception": false,
     "start_time": "2021-04-01T11:15:38.871692",
     "status": "completed"
    },
    "tags": []
   },
   "outputs": [],
   "source": [
    "fig, (ax) = plt.subplots(ncols=1, figsize=(8,5))\n",
    "lgb.plot_importance(model, height=0.8, title=\"Features importance (LightGBM)\", ax=ax,color=\"red\") \n",
    "plt.show()"
   ]
  },
  {
   "cell_type": "markdown",
   "id": "bored-croatia",
   "metadata": {
    "_uuid": "61f871e6e32a14c21f0722df0be376e6726222e2",
    "papermill": {
     "duration": 0.166476,
     "end_time": "2021-04-01T11:15:39.826723",
     "exception": false,
     "start_time": "2021-04-01T11:15:39.660247",
     "status": "completed"
    },
    "tags": []
   },
   "source": [
    "Let's predict now the target for the test data.\n",
    "\n",
    "### Predict test data"
   ]
  },
  {
   "cell_type": "code",
   "execution_count": null,
   "id": "federal-death",
   "metadata": {
    "_uuid": "76814af125071b56398f76511b1a88b7830300f2",
    "execution": {
     "iopub.execute_input": "2021-04-01T11:15:40.226826Z",
     "iopub.status.busy": "2021-04-01T11:15:40.225427Z",
     "iopub.status.idle": "2021-04-01T11:15:40.268009Z",
     "shell.execute_reply": "2021-04-01T11:15:40.268509Z"
    },
    "papermill": {
     "duration": 0.276973,
     "end_time": "2021-04-01T11:15:40.268735",
     "exception": false,
     "start_time": "2021-04-01T11:15:39.991762",
     "status": "completed"
    },
    "tags": []
   },
   "outputs": [],
   "source": [
    "preds = model.predict(test_df[predictors])"
   ]
  },
  {
   "cell_type": "markdown",
   "id": "pleased-aside",
   "metadata": {
    "_uuid": "e1b3afefa6f55801c55535e4a0e84d83be7d158d",
    "papermill": {
     "duration": 0.192494,
     "end_time": "2021-04-01T11:15:40.631617",
     "exception": false,
     "start_time": "2021-04-01T11:15:40.439123",
     "status": "completed"
    },
    "tags": []
   },
   "source": [
    "### Area under curve\n",
    "\n",
    "Let's calculate the ROC-AUC score for the prediction."
   ]
  },
  {
   "cell_type": "code",
   "execution_count": null,
   "id": "ranking-commercial",
   "metadata": {
    "_uuid": "c95c74cecb7a9facd24e11d763728e488c364035",
    "execution": {
     "iopub.execute_input": "2021-04-01T11:15:40.993389Z",
     "iopub.status.busy": "2021-04-01T11:15:40.992468Z",
     "iopub.status.idle": "2021-04-01T11:15:41.016310Z",
     "shell.execute_reply": "2021-04-01T11:15:41.015743Z"
    },
    "papermill": {
     "duration": 0.194804,
     "end_time": "2021-04-01T11:15:41.016460",
     "exception": false,
     "start_time": "2021-04-01T11:15:40.821656",
     "status": "completed"
    },
    "tags": []
   },
   "outputs": [],
   "source": [
    "roc_auc_score(test_df[target].values, preds)"
   ]
  },
  {
   "cell_type": "markdown",
   "id": "welcome-serum",
   "metadata": {
    "_uuid": "6e4664a3177f437bd72f58149ad3e0b970d870d2",
    "papermill": {
     "duration": 0.168855,
     "end_time": "2021-04-01T11:15:41.351895",
     "exception": false,
     "start_time": "2021-04-01T11:15:41.183040",
     "status": "completed"
    },
    "tags": []
   },
   "source": [
    "The ROC-AUC score obtained for the test set is **0.946**."
   ]
  },
  {
   "cell_type": "markdown",
   "id": "logical-genealogy",
   "metadata": {
    "_uuid": "46283d37fd7eb33b7a93447a9809f384b2fd7d13",
    "papermill": {
     "duration": 0.165281,
     "end_time": "2021-04-01T11:15:41.683163",
     "exception": false,
     "start_time": "2021-04-01T11:15:41.517882",
     "status": "completed"
    },
    "tags": []
   },
   "source": [
    "### Training and validation using cross-validation\n",
    "\n",
    "Let's use now cross-validation. We will use cross-validation (KFolds) with 5 folds. Data is divided in 5 folds and, by rotation, we are training using 4 folds (n-1) and validate using the 5th (nth) fold.\n",
    "\n",
    "Test set is calculated as an average of the predictions "
   ]
  },
  {
   "cell_type": "code",
   "execution_count": null,
   "id": "balanced-adrian",
   "metadata": {
    "_uuid": "9b277ba40e30206134a6796eeaf979fc2f57274e",
    "execution": {
     "iopub.execute_input": "2021-04-01T11:15:42.029851Z",
     "iopub.status.busy": "2021-04-01T11:15:42.029109Z",
     "iopub.status.idle": "2021-04-01T11:15:53.047873Z",
     "shell.execute_reply": "2021-04-01T11:15:53.048579Z"
    },
    "papermill": {
     "duration": 11.199279,
     "end_time": "2021-04-01T11:15:53.048826",
     "exception": false,
     "start_time": "2021-04-01T11:15:41.849547",
     "status": "completed"
    },
    "tags": []
   },
   "outputs": [],
   "source": [
    "kf = KFold(n_splits = NUMBER_KFOLDS, random_state = RANDOM_STATE, shuffle = True)\n",
    "\n",
    "# Create arrays and dataframes to store results\n",
    "oof_preds = np.zeros(train_df.shape[0])\n",
    "test_preds = np.zeros(test_df.shape[0])\n",
    "feature_importance_df = pd.DataFrame()\n",
    "n_fold = 0\n",
    "for train_idx, valid_idx in kf.split(train_df):\n",
    "    train_x, train_y = train_df[predictors].iloc[train_idx],train_df[target].iloc[train_idx]\n",
    "    valid_x, valid_y = train_df[predictors].iloc[valid_idx],train_df[target].iloc[valid_idx]\n",
    "    \n",
    "    evals_results = {}\n",
    "    model =  LGBMClassifier(\n",
    "                  nthread=-1,\n",
    "                  n_estimators=2000,\n",
    "                  learning_rate=0.01,\n",
    "                  num_leaves=80,\n",
    "                  colsample_bytree=0.98,\n",
    "                  subsample=0.78,\n",
    "                  reg_alpha=0.04,\n",
    "                  reg_lambda=0.073,\n",
    "                  subsample_for_bin=50,\n",
    "                  boosting_type='gbdt',\n",
    "                  is_unbalance=False,\n",
    "                  min_split_gain=0.025,\n",
    "                  min_child_weight=40,\n",
    "                  min_child_samples=510,\n",
    "                  objective='binary',\n",
    "                  metric='auc',\n",
    "                  silent=-1,\n",
    "                  verbose=-1,\n",
    "                  feval=None)\n",
    "    model.fit(train_x, train_y, eval_set=[(train_x, train_y), (valid_x, valid_y)], \n",
    "                eval_metric= 'auc', verbose= VERBOSE_EVAL, early_stopping_rounds= EARLY_STOP)\n",
    "    \n",
    "    oof_preds[valid_idx] = model.predict_proba(valid_x, num_iteration=model.best_iteration_)[:, 1]\n",
    "    test_preds += model.predict_proba(test_df[predictors], num_iteration=model.best_iteration_)[:, 1] / kf.n_splits\n",
    "    \n",
    "    fold_importance_df = pd.DataFrame()\n",
    "    fold_importance_df[\"feature\"] = predictors\n",
    "    fold_importance_df[\"importance\"] = clf.feature_importances_\n",
    "    fold_importance_df[\"fold\"] = n_fold + 1\n",
    "    \n",
    "    feature_importance_df = pd.concat([feature_importance_df, fold_importance_df], axis=0)\n",
    "    print('Fold %2d AUC : %.6f' % (n_fold + 1, roc_auc_score(valid_y, oof_preds[valid_idx])))\n",
    "    del model, train_x, train_y, valid_x, valid_y\n",
    "    gc.collect()\n",
    "    n_fold = n_fold + 1\n",
    "train_auc_score = roc_auc_score(train_df[target], oof_preds)\n",
    "print('Full AUC score %.6f' % train_auc_score)                                    "
   ]
  },
  {
   "cell_type": "markdown",
   "id": "spread-stadium",
   "metadata": {
    "_uuid": "f5c6d3d5c436367802d4a5f32def281767b439ae",
    "papermill": {
     "duration": 0.17363,
     "end_time": "2021-04-01T11:15:53.395390",
     "exception": false,
     "start_time": "2021-04-01T11:15:53.221760",
     "status": "completed"
    },
    "tags": []
   },
   "source": [
    "The AUC score for the prediction from the test data was 0.93.\n",
    "\n",
    "We prepare the test prediction, from the averaged predictions for test over the 5 folds."
   ]
  },
  {
   "cell_type": "code",
   "execution_count": null,
   "id": "loved-bubble",
   "metadata": {
    "_uuid": "e2a1e8c82317fd667ba9c159456602a42599e784",
    "execution": {
     "iopub.execute_input": "2021-04-01T11:15:53.745004Z",
     "iopub.status.busy": "2021-04-01T11:15:53.744339Z",
     "iopub.status.idle": "2021-04-01T11:15:53.747597Z",
     "shell.execute_reply": "2021-04-01T11:15:53.746989Z"
    },
    "papermill": {
     "duration": 0.179951,
     "end_time": "2021-04-01T11:15:53.747736",
     "exception": false,
     "start_time": "2021-04-01T11:15:53.567785",
     "status": "completed"
    },
    "tags": []
   },
   "outputs": [],
   "source": [
    "pred = test_preds"
   ]
  },
  {
   "cell_type": "markdown",
   "id": "champion-adult",
   "metadata": {
    "_uuid": "c281bff3a66a72421dd66976494080839fdead29",
    "papermill": {
     "duration": 0.173383,
     "end_time": "2021-04-01T11:15:54.097702",
     "exception": false,
     "start_time": "2021-04-01T11:15:53.924319",
     "status": "completed"
    },
    "tags": []
   },
   "source": [
    "# <a id=\"7\">Conclusions</a>"
   ]
  },
  {
   "cell_type": "markdown",
   "id": "found-wells",
   "metadata": {
    "_uuid": "ac803cb42c6211a6b96b1f30075b82092a50e5d2",
    "papermill": {
     "duration": 0.173085,
     "end_time": "2021-04-01T11:15:54.443436",
     "exception": false,
     "start_time": "2021-04-01T11:15:54.270351",
     "status": "completed"
    },
    "tags": []
   },
   "source": [
    "We investigated the data, checking for data unbalancing, visualizing the features and understanding the relationship between different features. \n",
    "We then investigated two predictive models. The data was split in 3 parts, a train set, a validation set and a test set. For the first three models, we only used the train and test set.  \n",
    "\n",
    "We started with **RandomForrestClassifier**, for which we obtained an AUC scode of **0.85** when predicting the target for the test set.  \n",
    "\n",
    "We followed with an **AdaBoostClassifier** model, with lower AUC score (**0.83**) for prediction of the test set target values.    \n",
    "\n",
    "We then followed with an **CatBoostClassifier**, with the AUC score after training 500 iterations **0.86**.    \n",
    "\n",
    "We then experimented with a **XGBoost** model. In this case, se used the validation set for validation of the training model.  The best validation score obtained was   **0.984**. Then we used the model with the best training step, to predict target value from the test data; the AUC score obtained was **0.974**.\n",
    "\n",
    "We then presented the data to a **LightGBM** model. We used both train-validation split and cross-validation to evaluate the model effectiveness to predict 'Class' value, i.e. detecting if a transaction was fraudulent. With the first method we obtained values of AUC for the validation set around **0.974**. For the test set, the score obtained was **0.946**.   \n",
    "With the cross-validation, we obtained an AUC score for the test prediction of  **0.93**."
   ]
  },
  {
   "cell_type": "markdown",
   "id": "super-walnut",
   "metadata": {
    "_uuid": "04ae7944c90114df8e14e6f53f5884d72dc7a304",
    "papermill": {
     "duration": 0.171686,
     "end_time": "2021-04-01T11:15:54.787354",
     "exception": false,
     "start_time": "2021-04-01T11:15:54.615668",
     "status": "completed"
    },
    "tags": []
   },
   "source": [
    "# <a id=\"8\">References</a>\n",
    "\n",
    "[1] Credit Card Fraud Detection Database, Anonymized credit card transactions labeled as fraudulent or genuine, https://www.kaggle.com/mlg-ulb/creditcardfraud  \n",
    "[2] Principal Component Analysis, Wikipedia Page, https://en.wikipedia.org/wiki/Principal_component_analysis  \n",
    "[3] RandomForrestClassifier, http://scikit-learn.org/stable/modules/generated/sklearn.ensemble.RandomForestClassifier.html  \n",
    "[4] ROC-AUC characteristic, https://en.wikipedia.org/wiki/Receiver_operating_characteristic#Area_under_the_curve   \n",
    "[5] AdaBoostClassifier, http://scikit-learn.org/stable/modules/generated/sklearn.ensemble.AdaBoostClassifier.html  \n",
    "[6] CatBoostClassifier, https://tech.yandex.com/catboost/doc/dg/concepts/python-reference_catboostclassifier-docpage/  \n",
    "[7] XGBoost Python API Reference, http://xgboost.readthedocs.io/en/latest/python/python_api.html  \n",
    "[8] LightGBM Python implementation, https://github.com/Microsoft/LightGBM/tree/master/python-package  \n",
    "[9] LightGBM algorithm, https://www.microsoft.com/en-us/research/wp-content/uploads/2017/11/lightgbm.pdf   \n",
    "\n"
   ]
  }
 ],
 "metadata": {
  "kernelspec": {
   "display_name": "Python 3",
   "language": "python",
   "name": "python3"
  },
  "language_info": {
   "codemirror_mode": {
    "name": "ipython",
    "version": 3
   },
   "file_extension": ".py",
   "mimetype": "text/x-python",
   "name": "python",
   "nbconvert_exporter": "python",
   "pygments_lexer": "ipython3",
   "version": "3.11.5"
  },
  "papermill": {
   "default_parameters": {},
   "duration": 710.698712,
   "end_time": "2021-04-01T11:15:56.073904",
   "environment_variables": {},
   "exception": null,
   "input_path": "__notebook__.ipynb",
   "output_path": "__notebook__.ipynb",
   "parameters": {},
   "start_time": "2021-04-01T11:04:05.375192",
   "version": "2.3.2"
  }
 },
 "nbformat": 4,
 "nbformat_minor": 5
}
