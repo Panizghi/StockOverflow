{
 "cells": [
  {
   "cell_type": "code",
   "execution_count": 1,
   "metadata": {},
   "outputs": [],
   "source": [
    "from flask import Flask, request, jsonify\n",
    "import numpy as np\n",
    "import pandas as pd\n",
    "import joblib  # For loading the saved model\n",
    "import tensorflow as tf\n",
    "\n",
    "\n",
    "\n",
    "\n",
    "\n",
    "\n",
    "\n",
    "\n"
   ]
  },
  {
   "cell_type": "code",
   "execution_count": null,
   "metadata": {},
   "outputs": [],
   "source": [
    "# Initialize Flask application\n",
    "app = Flask(__name__)\n",
    "\n",
    "# Load the trained model\n",
    "xgb = joblib.load('model_pickle.pkl')  # Assuming your model is saved as a pickle fil\n",
    "\n",
    "# Sample user input data\n",
    "user_input_data = {\n",
    "    'Time': [3000],\n",
    "    'V1': [1.2],\n",
    "    'V2': [-0.5],\n",
    "    'V3': [1.3],\n",
    "    'V4': [-0.3],\n",
    "    'V5': [0.8],\n",
    "    'V6': [-1.1],\n",
    "    'V7': [1.5],\n",
    "    'V8': [-0.7],\n",
    "    'V9': [0.4],\n",
    "    'V10': [0.9],\n",
    "    'V11': [-1.4],\n",
    "    'V12': [0.6],\n",
    "    'V13': [-0.1],\n",
    "    'V14': [1.0],\n",
    "    'V15': [0.5],\n",
    "    'V16': [-0.3],\n",
    "    'V17': [1.1],\n",
    "    'V18': [-0.9],\n",
    "    'V19': [0.3],\n",
    "    'V20': [1.2],\n",
    "    'V21': [-0.6],\n",
    "    'V22': [0.7],\n",
    "    'V23': [-1.2],\n",
    "    'V24': [0.4],\n",
    "    'V25': [0.1],\n",
    "    'V26': [-0.8],\n",
    "    'V27': [0.6],\n",
    "    'V28': [-1.0],\n",
    "    'Amount': [200]\n",
    "}\n",
    "\n",
    "# Convert to DataFrame\n",
    "user_input_df = pd.DataFrame(user_input_data)\n",
    "\n",
    "# Prepare DMatrix for user input\n",
    "duser_input = xgb.DMatrix(user_input_df[predictors])\n",
    "\n",
    "# Predict using the trained model\n",
    "user_input_preds = model.predict(duser_input)\n",
    "\n",
    "# Print the prediction\n",
    "print(f\"Prediction for user input: {user_input_preds[0]}\")\n"
   ]
  },
  {
   "cell_type": "code",
   "execution_count": 2,
   "metadata": {},
   "outputs": [
    {
     "ename": "NameError",
     "evalue": "name 'app' is not defined",
     "output_type": "error",
     "traceback": [
      "\u001b[0;31m---------------------------------------------------------------------------\u001b[0m",
      "\u001b[0;31mNameError\u001b[0m                                 Traceback (most recent call last)",
      "Cell \u001b[0;32mIn[2], line 2\u001b[0m\n\u001b[1;32m      1\u001b[0m \u001b[38;5;66;03m# Define the prediction endpoint\u001b[39;00m\n\u001b[0;32m----> 2\u001b[0m \u001b[38;5;129m@app\u001b[39m\u001b[38;5;241m.\u001b[39mroute(\u001b[38;5;124m'\u001b[39m\u001b[38;5;124m/predict\u001b[39m\u001b[38;5;124m'\u001b[39m, methods\u001b[38;5;241m=\u001b[39m[\u001b[38;5;124m'\u001b[39m\u001b[38;5;124mPOST\u001b[39m\u001b[38;5;124m'\u001b[39m])\n\u001b[1;32m      3\u001b[0m \u001b[38;5;28;01mdef\u001b[39;00m \u001b[38;5;21mpredict\u001b[39m():\n\u001b[1;32m      4\u001b[0m     \u001b[38;5;28;01mtry\u001b[39;00m:\n\u001b[1;32m      5\u001b[0m         transaction \u001b[38;5;241m=\u001b[39m request\u001b[38;5;241m.\u001b[39mjson\n",
      "\u001b[0;31mNameError\u001b[0m: name 'app' is not defined"
     ]
    }
   ],
   "source": [
    "# Define the prediction endpoint\n",
    "@app.route('/predict', methods=['POST'])\n",
    "def predict():\n",
    "    try:\n",
    "        transaction = request.json\n",
    "        processed_transaction = preprocess_transaction(transaction)\n",
    "        prediction = model.predict(processed_transaction)\n",
    "        # Assuming model outputs 1 for fraud and 0 for non-fraud\n",
    "        result = 'Fraud' if prediction[0] == 1 else 'Non-Fraud'\n",
    "        return jsonify({'prediction': result})\n",
    "    except Exception as e:\n",
    "        return jsonify({'error': str(e)})\n",
    "\n",
    "# Run the Flask application\n",
    "if __name__ == '__main__':\n",
    "    app.run(debug=True)"
   ]
  }
 ],
 "metadata": {
  "kernelspec": {
   "display_name": "venv",
   "language": "python",
   "name": "python3"
  },
  "language_info": {
   "codemirror_mode": {
    "name": "ipython",
    "version": 3
   },
   "file_extension": ".py",
   "mimetype": "text/x-python",
   "name": "python",
   "nbconvert_exporter": "python",
   "pygments_lexer": "ipython3",
   "version": "3.11.5"
  }
 },
 "nbformat": 4,
 "nbformat_minor": 2
}
